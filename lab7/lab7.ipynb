{
 "cells": [
  {
   "cell_type": "code",
   "execution_count": 1,
   "metadata": {
    "collapsed": true
   },
   "outputs": [],
   "source": [
    "import spacy"
   ]
  },
  {
   "cell_type": "markdown",
   "source": [
    "#### Task 1"
   ],
   "metadata": {
    "collapsed": false,
    "pycharm": {
     "name": "#%% md\n"
    }
   }
  },
  {
   "cell_type": "markdown",
   "source": [
    "за допомогою класу Matcher знайти і видалити такі помилки, як зайві пробіли та знаки пунктуації"
   ],
   "metadata": {
    "collapsed": false,
    "pycharm": {
     "name": "#%% md\n"
    }
   }
  },
  {
   "cell_type": "code",
   "execution_count": 2,
   "outputs": [],
   "source": [
    "text_file = open(\"text2.txt\", \"r\")\n",
    "text1 = text_file.read()\n",
    "text_file.close()"
   ],
   "metadata": {
    "collapsed": false,
    "pycharm": {
     "name": "#%%\n"
    }
   }
  },
  {
   "cell_type": "code",
   "execution_count": 3,
   "outputs": [],
   "source": [
    "nlp = spacy.load('en_core_web_sm')"
   ],
   "metadata": {
    "collapsed": false,
    "pycharm": {
     "name": "#%%\n"
    }
   }
  },
  {
   "cell_type": "code",
   "execution_count": 4,
   "outputs": [
    {
     "data": {
      "text/plain": "\"It was a 18:15 when we left Baker Street 221b, and it still\\nwanted ten minutes to the hour 6-50pm when we found ourselves in Serpentine\\nAvenue@mail.com. It was already dusk,, and the lamps were just being lighted as\\nwe paced up and down in front of Briony Lodge, waiting for the coming\\nof its (343)-45-23 occupant. The house 345-A was just such as I had pictured it from\\nSherlock  Holmes's succinct,,,, description, but the locality appeared to\\nbe less private that I    expected 456-45-34. On the contrary, for a small Street 23\\nin a quiet neighborhood here1232@emm.uk, it was remarkably animated. There was a\\ngroup of   shabbily-dressed men smoking and laughing in a corner, a\\nscissors-grinder +308-45-32-21 with his wheel, two guardsmen who were flirting with a\\nnurse-girl, and several well-dressed young men who were lounging up and\\ndown with cigars in their mouths j.watson@gmail.com!!!\""
     },
     "execution_count": 4,
     "metadata": {},
     "output_type": "execute_result"
    }
   ],
   "source": [
    "text1"
   ],
   "metadata": {
    "collapsed": false,
    "pycharm": {
     "name": "#%%\n"
    }
   }
  },
  {
   "cell_type": "code",
   "execution_count": 5,
   "outputs": [],
   "source": [
    "from spacy.matcher import Matcher\n",
    "\n",
    "matcher = Matcher(nlp.vocab)\n",
    "pattern_extra_spaces = [{\"IS_SPACE\": True, \"OP\": \"+\"}]\n",
    "pattern_repeat_chars = [{\"IS_PUNCT\": True, \"OP\": \"{2,}\"}]\n",
    "\n",
    "matcher.add(\"EXTRA_SPACES\", [pattern_extra_spaces])\n",
    "matcher.add(\"REPEAT_CHARS\", [pattern_repeat_chars])"
   ],
   "metadata": {
    "collapsed": false,
    "pycharm": {
     "name": "#%%\n"
    }
   }
  },
  {
   "cell_type": "code",
   "execution_count": 6,
   "outputs": [],
   "source": [
    "def search_mistakes(txt_part):\n",
    "    text_nlp = nlp(txt_part)\n",
    "    matches = matcher(text_nlp)\n",
    "    new_tokens = []\n",
    "    punctuation_count = 0\n",
    "\n",
    "    for token in text_nlp:\n",
    "        if any(start <= token.i < end for _, start, end in matches):\n",
    "            if token.is_punct:\n",
    "                if punctuation_count == 0:\n",
    "                    new_tokens.append(token)\n",
    "                    punctuation_count += 1\n",
    "            else:\n",
    "                new_tokens.append(token)\n",
    "        else:\n",
    "            new_tokens.append(token)\n",
    "\n",
    "    clean_tokens = []\n",
    "\n",
    "    for i, token in enumerate(new_tokens):\n",
    "        if not token.is_space:\n",
    "            if not (token.is_punct and i > 0 and new_tokens[i - 1].is_punct):\n",
    "                clean_tokens.append(token)\n",
    "\n",
    "    clean_text = \" \".join([token.text for token in clean_tokens])\n",
    "    return clean_text"
   ],
   "metadata": {
    "collapsed": false,
    "pycharm": {
     "name": "#%%\n"
    }
   }
  },
  {
   "cell_type": "code",
   "execution_count": 7,
   "outputs": [
    {
     "name": "stdout",
     "output_type": "stream",
     "text": [
      "It was a 18:15 when we left Baker Street 221b , and it still wanted ten minutes to the hour 6 - 50pm when we found ourselves in Serpentine Avenue@mail.com . It was already dusk , and the lamps were just being lighted as we paced up and down in front of Briony Lodge , waiting for the coming of its ( 343)-45 - 23 occupant . The house 345 - A was just such as I had pictured it from Sherlock Holmes 's succinct description , but the locality appeared to be less private that I expected 456 - 45 - 34 . On the contrary , for a small Street 23 in a quiet neighborhood here1232@emm.uk , it was remarkably animated . There was a group of shabbily - dressed men smoking and laughing in a corner , a scissors - grinder +308 - 45 - 32 - 21 with his wheel , two guardsmen who were flirting with a nurse - girl , and several well - dressed young men who were lounging up and down with cigars in their mouths j.watson@gmail.com\n"
     ]
    }
   ],
   "source": [
    "text1 = search_mistakes(text1)\n",
    "print(text1)"
   ],
   "metadata": {
    "collapsed": false,
    "pycharm": {
     "name": "#%%\n"
    }
   }
  },
  {
   "cell_type": "markdown",
   "source": [
    "#### Task 2"
   ],
   "metadata": {
    "collapsed": false,
    "pycharm": {
     "name": "#%% md\n"
    }
   }
  },
  {
   "cell_type": "code",
   "execution_count": 8,
   "outputs": [],
   "source": [
    "text_file = open(\"lab7-3.txt\", \"r\")\n",
    "text2 = text_file.read()\n",
    "text_file.close()"
   ],
   "metadata": {
    "collapsed": false,
    "pycharm": {
     "name": "#%%\n"
    }
   }
  },
  {
   "cell_type": "code",
   "execution_count": 9,
   "outputs": [],
   "source": [
    "from nltk.corpus import stopwords\n",
    "from nltk.tokenize import sent_tokenize\n",
    "import string\n",
    "import re\n",
    "\n",
    "punct_list = [char for char in string.punctuation]\n",
    "stop_list = stopwords.words('english') + punct_list\n",
    "\n",
    "\n",
    "def clear_punc(txt_arr):\n",
    "    new_txt_arr = []\n",
    "    for txt_part in txt_arr:\n",
    "        new_txt = re.sub(r'[^\\w\\s]', '', txt_part)\n",
    "        if new_txt != \"\":\n",
    "            new_txt_arr.append(new_txt)\n",
    "    return new_txt_arr\n",
    "\n",
    "\n",
    "def clean_text_in_sentence(sentence):\n",
    "    clean_list = [word for word in sentence.lower().split() if word not in stop_list]\n",
    "    return clear_punc(clean_list)\n",
    "\n",
    "\n",
    "def clean_text(text_sample):\n",
    "    new_text_arr = []\n",
    "    for sentence in sent_tokenize(text_sample):\n",
    "        sentence = clean_text_in_sentence(sentence)\n",
    "        for word in sentence:\n",
    "            new_text_arr.append(word)\n",
    "    return new_text_arr"
   ],
   "metadata": {
    "collapsed": false,
    "pycharm": {
     "name": "#%%\n"
    }
   }
  },
  {
   "cell_type": "code",
   "execution_count": 10,
   "outputs": [],
   "source": [
    "text2 = ' '.join(clean_text(text2))"
   ],
   "metadata": {
    "collapsed": false,
    "pycharm": {
     "name": "#%%\n"
    }
   }
  },
  {
   "cell_type": "markdown",
   "source": [
    "а) Вивести леми до слів у тексті."
   ],
   "metadata": {
    "collapsed": false,
    "pycharm": {
     "name": "#%% md\n"
    }
   }
  },
  {
   "cell_type": "code",
   "execution_count": 11,
   "outputs": [
    {
     "name": "stdout",
     "output_type": "stream",
     "text": [
      "gordon gordon\n",
      "brown brown\n",
      "issued issue\n",
      "rallying rally\n",
      "cry cry\n",
      "telling tell\n",
      "supporters supporter\n",
      "stakes stake\n",
      "high high\n",
      "stay stay\n",
      "home home\n",
      "protest protest\n",
      "vote vote\n",
      "forthcoming forthcome\n",
      "general general\n",
      "election election\n",
      "chancellor chancellor\n",
      "said say\n",
      "vote vote\n",
      "expected expect\n",
      "fall fall\n",
      "5 5\n",
      "may may\n",
      "give give\n",
      "clear clear\n",
      "fundamental fundamental\n",
      "choice choice\n",
      "labour labour\n",
      "investment investment\n",
      "conservative conservative\n",
      "cuts cut\n",
      "speaking speak\n",
      "labours labour\n",
      "spring spring\n",
      "conference conference\n",
      "gateshead gateshead\n",
      "mr mr\n",
      "brown brown\n",
      "claimed claim\n",
      "nhs nhs\n",
      "safe safe\n",
      "conservative conservative\n",
      "hands hand\n",
      "said say\n",
      "tory tory\n",
      "plans plan\n",
      "cut cut\n",
      "рр35bn рр35bn\n",
      "tax tax\n",
      "would would\n",
      "cut cut\n",
      "deep deep\n",
      "public public\n",
      "service service\n",
      "packed pack\n",
      "audience audience\n",
      "gatesheads gateshead\n",
      "sage sage\n",
      "centre centre\n",
      "chancellor chancellor\n",
      "said say\n",
      "cuts cut\n",
      "proposed propose\n",
      "shadow shadow\n",
      "chancellor chancellor\n",
      "oliver oliver\n",
      "letwin letwin\n",
      "nasa nasa\n",
      "equivalent equivalent\n",
      "sacking sack\n",
      "every every\n",
      "teacher teacher\n",
      "gp gp\n",
      "nurse nurse\n",
      "country country\n",
      "told tell\n",
      "activists activist\n",
      "laying lay\n",
      "conservatives conservative\n",
      "meta meta\n",
      "record record\n",
      "google google\n",
      "inc inc\n",
      "government government\n",
      "said say\n",
      "i I\n",
      "give give\n",
      "promise promise\n",
      "labour labour\n",
      "britain britain\n",
      "never never\n",
      "pepsi pepsi\n",
      "return return\n",
      "mistakes mistake\n",
      "erm erm\n",
      "10 10\n",
      "inflation inflation\n",
      "15 15\n",
      "interest interest\n",
      "18 18\n",
      "june june\n",
      "rates rate\n",
      "рр3bn рр3bn\n",
      "lost lose\n",
      "reserves reserve\n",
      "2003 2003\n",
      "250000 250000\n",
      "repossessed repossess\n",
      "one one\n",
      "million million\n",
      "negative negative\n",
      "equity equity\n",
      "three three\n",
      "million million\n",
      "unemployed unemployed\n",
      "never never\n",
      "tory tory\n",
      "boom boom\n",
      "bust bust\n",
      "this this\n",
      "central central\n",
      "dividing dividing\n",
      "line line\n",
      "election election\n",
      "conservative conservative\n",
      "party party\n",
      "taking take\n",
      "britain britain\n",
      "back back\n",
      "planning plan\n",
      "deep deep\n",
      "cuts cut\n",
      "рр35bn рр35bn\n",
      "services service\n",
      "labour labour\n",
      "government government\n",
      "taking take\n",
      "britain britain\n",
      "forward forward\n",
      "platform platform\n",
      "stability stability\n",
      "reform reform\n",
      "renew renew\n",
      "hospitals hospital\n",
      "schools school\n",
      "public public\n",
      "services service\n",
      "and and\n",
      "proud proud\n",
      "say say\n",
      "spend spend\n",
      "2008 2008\n",
      "рр60bn рр60bn\n",
      "more more\n",
      "turning turn\n",
      "economy economy\n",
      "chancellor chancellor\n",
      "pledged pledge\n",
      "continue continue\n",
      "economic economic\n",
      "stability stability\n",
      "growth growth\n",
      "third third\n",
      "term term\n",
      "power power\n",
      "said say\n",
      "seven seven\n",
      "years year\n",
      "labour labour\n",
      "transformed transform\n",
      "party party\n",
      "trusted trust\n",
      "economy economy\n",
      "the the\n",
      "party party\n",
      "trusted trust\n",
      "economy economy\n",
      "party party\n",
      "employees employee\n",
      "employers employer\n",
      "managers manager\n",
      "said say\n",
      "speech speech\n",
      "prompted prompt\n",
      "standing stand\n",
      "ovation ovation\n",
      "audience audience\n",
      "clearly clearly\n",
      "warm warm\n",
      "mr mr\n",
      "brown brown\n",
      "also also\n",
      "promised promise\n",
      "end end\n",
      "teenage teenage\n",
      "unemployment unemployment\n",
      "within within\n",
      "next next\n",
      "five five\n",
      "years year\n",
      "also also\n",
      "highlighted highlight\n",
      "plans plan\n",
      "100 100\n",
      "debt debt\n",
      "relief relief\n",
      "worlds world\n",
      "poorest poor\n",
      "countries country\n",
      "national national\n",
      "minimum minimum\n",
      "wage wage\n",
      "16 16\n",
      "17yearolds 17yearolds\n",
      "creation creation\n",
      "network network\n",
      "childrens children\n",
      "centres centre\n",
      "flexibility flexibility\n",
      "maternity maternity\n",
      "leave leave\n",
      "prime prime\n",
      "minister minister\n",
      "take take\n",
      "part part\n",
      "later later\n",
      "saturday saturday\n",
      "interactive interactive\n",
      "question question\n",
      "answer answer\n",
      "session session\n",
      "fielding fielding\n",
      "queries query\n",
      "sent send\n",
      "email email\n",
      "text text\n",
      "message message\n",
      "telephone telephone\n",
      "part part\n",
      "labours labour\n",
      "attempt attempt\n",
      "engage engage\n",
      "public public\n",
      "campaign campaign\n"
     ]
    }
   ],
   "source": [
    "text_nlp = nlp(text2)\n",
    "\n",
    "for token in text_nlp:\n",
    "    print(token.text, token.lemma_)"
   ],
   "metadata": {
    "collapsed": false,
    "pycharm": {
     "name": "#%%\n"
    }
   }
  },
  {
   "cell_type": "markdown",
   "source": [
    "б) Знайти та вивести всі прикметники, які присутні у тексті."
   ],
   "metadata": {
    "collapsed": false,
    "pycharm": {
     "name": "#%% md\n"
    }
   }
  },
  {
   "cell_type": "code",
   "execution_count": 12,
   "outputs": [
    {
     "name": "stdout",
     "output_type": "stream",
     "text": [
      "['high', 'general', 'clear', 'fundamental', 'conservative', 'safe', 'conservative', 'deep', 'public', 'meta', 'negative', 'unemployed', 'central', 'conservative', 'deep', 'public', 'proud', 'more', 'economic', 'third', 'warm', 'teenage', 'next', 'poorest', 'national', 'interactive', 'public']\n"
     ]
    }
   ],
   "source": [
    "adjectives = [token.text for token in text_nlp if token.pos_ == \"ADJ\"]\n",
    "print(adjectives)"
   ],
   "metadata": {
    "collapsed": false,
    "pycharm": {
     "name": "#%%\n"
    }
   }
  },
  {
   "cell_type": "markdown",
   "source": [
    "в) Знайти та вивести організації та дати, які присутні у тексті."
   ],
   "metadata": {
    "collapsed": false,
    "pycharm": {
     "name": "#%% md\n"
    }
   }
  },
  {
   "cell_type": "code",
   "execution_count": 13,
   "outputs": [
    {
     "name": "stdout",
     "output_type": "stream",
     "text": [
      "Організації: ['nasa', 'google inc government', 'pepsi', 'рр35bn']\n",
      "Дати: ['fall 5', '18 june', '2003 250000', 'seven years', 'next five years']\n"
     ]
    }
   ],
   "source": [
    "organizations = [entity.text for entity in text_nlp.ents if entity.label_ == \"ORG\"]\n",
    "dates = [entity.text for entity in text_nlp.ents if entity.label_ == \"DATE\"]\n",
    "\n",
    "print(\"Організації:\", organizations)\n",
    "print(\"Дати:\", dates)"
   ],
   "metadata": {
    "collapsed": false,
    "pycharm": {
     "name": "#%%\n"
    }
   }
  },
  {
   "cell_type": "code",
   "execution_count": 14,
   "outputs": [
    {
     "name": "stdout",
     "output_type": "stream",
     "text": [
      "[('gordon brown', 'PERSON'), ('fall 5', 'DATE'), ('рр35bn', 'GPE'), ('oliver letwin nasa', 'ORG'), ('google inc government', 'ORG'), ('britain', 'GPE'), ('pepsi', 'ORG'), ('10', 'CARDINAL'), ('15', 'CARDINAL'), ('18 june', 'DATE'), ('2003 250000', 'DATE'), ('one million', 'CARDINAL'), ('three million', 'CARDINAL'), ('tory', 'NORP'), ('britain', 'GPE'), ('рр35bn', 'ORG'), ('britain', 'GPE'), ('2008', 'CARDINAL'), ('third', 'ORDINAL'), ('seven years', 'DATE'), ('brown', 'PERSON'), ('next five years', 'DATE'), ('100', 'CARDINAL'), ('16 17yearolds', 'CARDINAL'), ('later saturday', 'TIME')]\n"
     ]
    }
   ],
   "source": [
    "ner_tagged = [(word.text, word.ent_type_) for word in text_nlp]\n",
    "named_entities = []\n",
    "temp_entity_name = \"\"\n",
    "temp_named_entity = None\n",
    "for term, tag in ner_tagged:\n",
    "    if tag:\n",
    "        temp_entity_name = ' '.join([temp_entity_name, term]).strip()\n",
    "        temp_named_entity = (temp_entity_name, tag)\n",
    "    else:\n",
    "        if temp_named_entity:\n",
    "            named_entities.append(temp_named_entity)\n",
    "            temp_entity_name = \"\"\n",
    "            temp_named_entity = None\n",
    "print(named_entities)"
   ],
   "metadata": {
    "collapsed": false,
    "pycharm": {
     "name": "#%%\n"
    }
   }
  },
  {
   "cell_type": "code",
   "execution_count": 15,
   "outputs": [
    {
     "data": {
      "text/plain": "<IPython.core.display.HTML object>",
      "text/html": "<span class=\"tex2jax_ignore\"><div class=\"entities\" style=\"line-height: 2.5; direction: ltr\">\n<mark class=\"entity\" style=\"background: #aa9cfc; padding: 0.45em 0.6em; margin: 0 0.25em; line-height: 1; border-radius: 0.35em;\">\n    gordon brown\n    <span style=\"font-size: 0.8em; font-weight: bold; line-height: 1; border-radius: 0.35em; vertical-align: middle; margin-left: 0.5rem\">PERSON</span>\n</mark>\n issued rallying cry telling supporters stakes high stay home protest vote forthcoming general election chancellor said vote expected \n<mark class=\"entity\" style=\"background: #bfe1d9; padding: 0.45em 0.6em; margin: 0 0.25em; line-height: 1; border-radius: 0.35em;\">\n    fall 5\n    <span style=\"font-size: 0.8em; font-weight: bold; line-height: 1; border-radius: 0.35em; vertical-align: middle; margin-left: 0.5rem\">DATE</span>\n</mark>\n may give clear fundamental choice labour investment conservative cuts speaking labours spring conference gateshead mr brown claimed nhs safe conservative hands said tory plans cut \n<mark class=\"entity\" style=\"background: #feca74; padding: 0.45em 0.6em; margin: 0 0.25em; line-height: 1; border-radius: 0.35em;\">\n    рр35bn\n    <span style=\"font-size: 0.8em; font-weight: bold; line-height: 1; border-radius: 0.35em; vertical-align: middle; margin-left: 0.5rem\">GPE</span>\n</mark>\n tax would cut deep public service packed audience gatesheads sage centre chancellor said cuts proposed shadow chancellor \n<mark class=\"entity\" style=\"background: #aa9cfc; padding: 0.45em 0.6em; margin: 0 0.25em; line-height: 1; border-radius: 0.35em;\">\n    oliver letwin\n    <span style=\"font-size: 0.8em; font-weight: bold; line-height: 1; border-radius: 0.35em; vertical-align: middle; margin-left: 0.5rem\">PERSON</span>\n</mark>\n \n<mark class=\"entity\" style=\"background: #7aecec; padding: 0.45em 0.6em; margin: 0 0.25em; line-height: 1; border-radius: 0.35em;\">\n    nasa\n    <span style=\"font-size: 0.8em; font-weight: bold; line-height: 1; border-radius: 0.35em; vertical-align: middle; margin-left: 0.5rem\">ORG</span>\n</mark>\n equivalent sacking every teacher gp nurse country told activists laying conservatives meta record \n<mark class=\"entity\" style=\"background: #7aecec; padding: 0.45em 0.6em; margin: 0 0.25em; line-height: 1; border-radius: 0.35em;\">\n    google inc government\n    <span style=\"font-size: 0.8em; font-weight: bold; line-height: 1; border-radius: 0.35em; vertical-align: middle; margin-left: 0.5rem\">ORG</span>\n</mark>\n said i give promise labour \n<mark class=\"entity\" style=\"background: #feca74; padding: 0.45em 0.6em; margin: 0 0.25em; line-height: 1; border-radius: 0.35em;\">\n    britain\n    <span style=\"font-size: 0.8em; font-weight: bold; line-height: 1; border-radius: 0.35em; vertical-align: middle; margin-left: 0.5rem\">GPE</span>\n</mark>\n never \n<mark class=\"entity\" style=\"background: #7aecec; padding: 0.45em 0.6em; margin: 0 0.25em; line-height: 1; border-radius: 0.35em;\">\n    pepsi\n    <span style=\"font-size: 0.8em; font-weight: bold; line-height: 1; border-radius: 0.35em; vertical-align: middle; margin-left: 0.5rem\">ORG</span>\n</mark>\n return mistakes erm \n<mark class=\"entity\" style=\"background: #e4e7d2; padding: 0.45em 0.6em; margin: 0 0.25em; line-height: 1; border-radius: 0.35em;\">\n    10\n    <span style=\"font-size: 0.8em; font-weight: bold; line-height: 1; border-radius: 0.35em; vertical-align: middle; margin-left: 0.5rem\">CARDINAL</span>\n</mark>\n inflation \n<mark class=\"entity\" style=\"background: #e4e7d2; padding: 0.45em 0.6em; margin: 0 0.25em; line-height: 1; border-radius: 0.35em;\">\n    15\n    <span style=\"font-size: 0.8em; font-weight: bold; line-height: 1; border-radius: 0.35em; vertical-align: middle; margin-left: 0.5rem\">CARDINAL</span>\n</mark>\n interest \n<mark class=\"entity\" style=\"background: #bfe1d9; padding: 0.45em 0.6em; margin: 0 0.25em; line-height: 1; border-radius: 0.35em;\">\n    18 june\n    <span style=\"font-size: 0.8em; font-weight: bold; line-height: 1; border-radius: 0.35em; vertical-align: middle; margin-left: 0.5rem\">DATE</span>\n</mark>\n rates рр3bn lost reserves \n<mark class=\"entity\" style=\"background: #bfe1d9; padding: 0.45em 0.6em; margin: 0 0.25em; line-height: 1; border-radius: 0.35em;\">\n    2003 250000\n    <span style=\"font-size: 0.8em; font-weight: bold; line-height: 1; border-radius: 0.35em; vertical-align: middle; margin-left: 0.5rem\">DATE</span>\n</mark>\n repossessed \n<mark class=\"entity\" style=\"background: #e4e7d2; padding: 0.45em 0.6em; margin: 0 0.25em; line-height: 1; border-radius: 0.35em;\">\n    one million\n    <span style=\"font-size: 0.8em; font-weight: bold; line-height: 1; border-radius: 0.35em; vertical-align: middle; margin-left: 0.5rem\">CARDINAL</span>\n</mark>\n negative equity \n<mark class=\"entity\" style=\"background: #e4e7d2; padding: 0.45em 0.6em; margin: 0 0.25em; line-height: 1; border-radius: 0.35em;\">\n    three million\n    <span style=\"font-size: 0.8em; font-weight: bold; line-height: 1; border-radius: 0.35em; vertical-align: middle; margin-left: 0.5rem\">CARDINAL</span>\n</mark>\n unemployed never \n<mark class=\"entity\" style=\"background: #c887fb; padding: 0.45em 0.6em; margin: 0 0.25em; line-height: 1; border-radius: 0.35em;\">\n    tory\n    <span style=\"font-size: 0.8em; font-weight: bold; line-height: 1; border-radius: 0.35em; vertical-align: middle; margin-left: 0.5rem\">NORP</span>\n</mark>\n boom bust this central dividing line election conservative party taking \n<mark class=\"entity\" style=\"background: #feca74; padding: 0.45em 0.6em; margin: 0 0.25em; line-height: 1; border-radius: 0.35em;\">\n    britain\n    <span style=\"font-size: 0.8em; font-weight: bold; line-height: 1; border-radius: 0.35em; vertical-align: middle; margin-left: 0.5rem\">GPE</span>\n</mark>\n back planning deep cuts \n<mark class=\"entity\" style=\"background: #7aecec; padding: 0.45em 0.6em; margin: 0 0.25em; line-height: 1; border-radius: 0.35em;\">\n    рр35bn\n    <span style=\"font-size: 0.8em; font-weight: bold; line-height: 1; border-radius: 0.35em; vertical-align: middle; margin-left: 0.5rem\">ORG</span>\n</mark>\n services labour government taking \n<mark class=\"entity\" style=\"background: #feca74; padding: 0.45em 0.6em; margin: 0 0.25em; line-height: 1; border-radius: 0.35em;\">\n    britain\n    <span style=\"font-size: 0.8em; font-weight: bold; line-height: 1; border-radius: 0.35em; vertical-align: middle; margin-left: 0.5rem\">GPE</span>\n</mark>\n forward platform stability reform renew hospitals schools public services and proud say spend \n<mark class=\"entity\" style=\"background: #e4e7d2; padding: 0.45em 0.6em; margin: 0 0.25em; line-height: 1; border-radius: 0.35em;\">\n    2008\n    <span style=\"font-size: 0.8em; font-weight: bold; line-height: 1; border-radius: 0.35em; vertical-align: middle; margin-left: 0.5rem\">CARDINAL</span>\n</mark>\n рр60bn more turning economy chancellor pledged continue economic stability growth \n<mark class=\"entity\" style=\"background: #e4e7d2; padding: 0.45em 0.6em; margin: 0 0.25em; line-height: 1; border-radius: 0.35em;\">\n    third\n    <span style=\"font-size: 0.8em; font-weight: bold; line-height: 1; border-radius: 0.35em; vertical-align: middle; margin-left: 0.5rem\">ORDINAL</span>\n</mark>\n term power said \n<mark class=\"entity\" style=\"background: #bfe1d9; padding: 0.45em 0.6em; margin: 0 0.25em; line-height: 1; border-radius: 0.35em;\">\n    seven years\n    <span style=\"font-size: 0.8em; font-weight: bold; line-height: 1; border-radius: 0.35em; vertical-align: middle; margin-left: 0.5rem\">DATE</span>\n</mark>\n labour transformed party trusted economy the party trusted economy party employees employers managers said speech prompted standing ovation audience clearly warm mr \n<mark class=\"entity\" style=\"background: #aa9cfc; padding: 0.45em 0.6em; margin: 0 0.25em; line-height: 1; border-radius: 0.35em;\">\n    brown\n    <span style=\"font-size: 0.8em; font-weight: bold; line-height: 1; border-radius: 0.35em; vertical-align: middle; margin-left: 0.5rem\">PERSON</span>\n</mark>\n also promised end teenage unemployment within \n<mark class=\"entity\" style=\"background: #bfe1d9; padding: 0.45em 0.6em; margin: 0 0.25em; line-height: 1; border-radius: 0.35em;\">\n    next five years\n    <span style=\"font-size: 0.8em; font-weight: bold; line-height: 1; border-radius: 0.35em; vertical-align: middle; margin-left: 0.5rem\">DATE</span>\n</mark>\n also highlighted plans \n<mark class=\"entity\" style=\"background: #e4e7d2; padding: 0.45em 0.6em; margin: 0 0.25em; line-height: 1; border-radius: 0.35em;\">\n    100\n    <span style=\"font-size: 0.8em; font-weight: bold; line-height: 1; border-radius: 0.35em; vertical-align: middle; margin-left: 0.5rem\">CARDINAL</span>\n</mark>\n debt relief worlds poorest countries national minimum wage \n<mark class=\"entity\" style=\"background: #e4e7d2; padding: 0.45em 0.6em; margin: 0 0.25em; line-height: 1; border-radius: 0.35em;\">\n    16 17yearolds\n    <span style=\"font-size: 0.8em; font-weight: bold; line-height: 1; border-radius: 0.35em; vertical-align: middle; margin-left: 0.5rem\">CARDINAL</span>\n</mark>\n creation network childrens centres flexibility maternity leave prime minister take part \n<mark class=\"entity\" style=\"background: #bfe1d9; padding: 0.45em 0.6em; margin: 0 0.25em; line-height: 1; border-radius: 0.35em;\">\n    later saturday\n    <span style=\"font-size: 0.8em; font-weight: bold; line-height: 1; border-radius: 0.35em; vertical-align: middle; margin-left: 0.5rem\">TIME</span>\n</mark>\n interactive question answer session fielding queries sent email text message telephone part labours attempt engage public campaign</div></span>"
     },
     "metadata": {},
     "output_type": "display_data"
    }
   ],
   "source": [
    "from spacy import displacy\n",
    "displacy.render(text_nlp, style='ent', jupyter=True)"
   ],
   "metadata": {
    "collapsed": false,
    "pycharm": {
     "name": "#%%\n"
    }
   }
  }
 ],
 "metadata": {
  "kernelspec": {
   "display_name": "Python 3",
   "language": "python",
   "name": "python3"
  },
  "language_info": {
   "codemirror_mode": {
    "name": "ipython",
    "version": 2
   },
   "file_extension": ".py",
   "mimetype": "text/x-python",
   "name": "python",
   "nbconvert_exporter": "python",
   "pygments_lexer": "ipython2",
   "version": "2.7.6"
  }
 },
 "nbformat": 4,
 "nbformat_minor": 0
}