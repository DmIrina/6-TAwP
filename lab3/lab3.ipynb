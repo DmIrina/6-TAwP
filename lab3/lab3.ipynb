{
 "cells": [
  {
   "cell_type": "code",
   "execution_count": 1,
   "outputs": [],
   "source": [
    "import numpy as np\n",
    "import pandas as pd\n",
    "import nltk"
   ],
   "metadata": {
    "collapsed": false,
    "pycharm": {
     "name": "#%%\n"
    }
   }
  },
  {
   "cell_type": "code",
   "execution_count": 2,
   "outputs": [
    {
     "data": {
      "text/plain": "                                            Document  Category\n0     National Aeronautics and Space Administration.     space\n1  The cesarean rate in the United States steadil...  cesarean\n2  While soup is simmering, plunge watercress int...      soup\n3  One hospital succeeded in reducing the rate of...  cesarean\n4  This list is offered as a reference for transl...  acronyms\n5  Ladle soup into heated soup bowl. Add watercre...      soup\n6  As of Edition 3 of the list, these acronyms ap...  acronyms",
      "text/html": "<div>\n<style scoped>\n    .dataframe tbody tr th:only-of-type {\n        vertical-align: middle;\n    }\n\n    .dataframe tbody tr th {\n        vertical-align: top;\n    }\n\n    .dataframe thead th {\n        text-align: right;\n    }\n</style>\n<table border=\"1\" class=\"dataframe\">\n  <thead>\n    <tr style=\"text-align: right;\">\n      <th></th>\n      <th>Document</th>\n      <th>Category</th>\n    </tr>\n  </thead>\n  <tbody>\n    <tr>\n      <th>0</th>\n      <td>National Aeronautics and Space Administration.</td>\n      <td>space</td>\n    </tr>\n    <tr>\n      <th>1</th>\n      <td>The cesarean rate in the United States steadil...</td>\n      <td>cesarean</td>\n    </tr>\n    <tr>\n      <th>2</th>\n      <td>While soup is simmering, plunge watercress int...</td>\n      <td>soup</td>\n    </tr>\n    <tr>\n      <th>3</th>\n      <td>One hospital succeeded in reducing the rate of...</td>\n      <td>cesarean</td>\n    </tr>\n    <tr>\n      <th>4</th>\n      <td>This list is offered as a reference for transl...</td>\n      <td>acronyms</td>\n    </tr>\n    <tr>\n      <th>5</th>\n      <td>Ladle soup into heated soup bowl. Add watercre...</td>\n      <td>soup</td>\n    </tr>\n    <tr>\n      <th>6</th>\n      <td>As of Edition 3 of the list, these acronyms ap...</td>\n      <td>acronyms</td>\n    </tr>\n  </tbody>\n</table>\n</div>"
     },
     "execution_count": 2,
     "metadata": {},
     "output_type": "execute_result"
    }
   ],
   "source": [
    "from nltk.tokenize import LineTokenizer\n",
    "\n",
    "text_file = open(\"doc10.txt\", \"r\")\n",
    "corpus = text_file.read()\n",
    "text_file.close()\n",
    "\n",
    "corpus = LineTokenizer(blanklines='discard').tokenize(corpus)\n",
    "labels = ['space', 'cesarean', 'soup', 'cesarean', 'acronyms', 'soup', 'acronyms']\n",
    "corpus_df = pd.DataFrame({'Document': corpus, 'Category': labels})\n",
    "\n",
    "corpus_df"
   ],
   "metadata": {
    "collapsed": false,
    "pycharm": {
     "name": "#%%\n"
    }
   }
  },
  {
   "cell_type": "markdown",
   "source": [
    "#### Task 1"
   ],
   "metadata": {
    "collapsed": false,
    "pycharm": {
     "name": "#%% md\n"
    }
   }
  },
  {
   "cell_type": "code",
   "execution_count": 3,
   "outputs": [
    {
     "name": "stdout",
     "output_type": "stream",
     "text": [
      "['national aeronautics space administration'\n",
      " 'cesarean rate united states steadily increased'\n",
      " 'soup simmering plunge watercress large saucepan simmering water'\n",
      " 'one hospital succeeded reducing rate cesarean delivery applying objective criteria four common indications cesarean delivery'\n",
      " 'list offered reference translating commonly appearing acronyms spacerelated newsgroups'\n",
      " 'ladle soup heated soup bowl add watercress puree soup'\n",
      " 'edition list acronyms appear multiple lines']\n"
     ]
    }
   ],
   "source": [
    "import re\n",
    "\n",
    "wpt = nltk.WordPunctTokenizer()\n",
    "stop_words = nltk.corpus.stopwords.words('english')\n",
    "\n",
    "\n",
    "def preproc_doc(doc):\n",
    "    doc = re.sub(r'[^a-zA-Z\\s]', '', doc, re.I | re.A)\n",
    "    doc = doc.lower()\n",
    "    doc = doc.strip()\n",
    "    tokens = wpt.tokenize(doc)\n",
    "    filtered_tokens = [token for token in tokens if token not in stop_words]\n",
    "    doc = ' '.join(filtered_tokens)\n",
    "    return doc\n",
    "\n",
    "\n",
    "preproc_corpus = np.vectorize(preproc_doc)\n",
    "p_corpus = preproc_corpus(corpus)\n",
    "print(p_corpus)"
   ],
   "metadata": {
    "collapsed": false,
    "pycharm": {
     "name": "#%%\n"
    }
   }
  },
  {
   "cell_type": "code",
   "execution_count": 4,
   "outputs": [
    {
     "data": {
      "text/plain": "   acronyms  add  administration  aeronautics  appear  appearing  applying  \\\n0         0    0               1            1       0          0         0   \n1         0    0               0            0       0          0         0   \n2         0    0               0            0       0          0         0   \n3         0    0               0            0       0          0         1   \n4         1    0               0            0       0          1         0   \n5         0    1               0            0       0          0         0   \n6         1    0               0            0       1          0         0   \n\n   bowl  cesarean  common  ...  soup  space  spacerelated  states  steadily  \\\n0     0         0       0  ...     0      1             0       0         0   \n1     0         1       0  ...     0      0             0       1         1   \n2     0         0       0  ...     1      0             0       0         0   \n3     0         2       1  ...     0      0             0       0         0   \n4     0         0       0  ...     0      0             1       0         0   \n5     1         0       0  ...     3      0             0       0         0   \n6     0         0       0  ...     0      0             0       0         0   \n\n   succeeded  translating  united  water  watercress  \n0          0            0       0      0           0  \n1          0            0       1      0           0  \n2          0            0       0      1           1  \n3          1            0       0      0           0  \n4          0            1       0      0           0  \n5          0            0       0      0           1  \n6          0            0       0      0           0  \n\n[7 rows x 46 columns]",
      "text/html": "<div>\n<style scoped>\n    .dataframe tbody tr th:only-of-type {\n        vertical-align: middle;\n    }\n\n    .dataframe tbody tr th {\n        vertical-align: top;\n    }\n\n    .dataframe thead th {\n        text-align: right;\n    }\n</style>\n<table border=\"1\" class=\"dataframe\">\n  <thead>\n    <tr style=\"text-align: right;\">\n      <th></th>\n      <th>acronyms</th>\n      <th>add</th>\n      <th>administration</th>\n      <th>aeronautics</th>\n      <th>appear</th>\n      <th>appearing</th>\n      <th>applying</th>\n      <th>bowl</th>\n      <th>cesarean</th>\n      <th>common</th>\n      <th>...</th>\n      <th>soup</th>\n      <th>space</th>\n      <th>spacerelated</th>\n      <th>states</th>\n      <th>steadily</th>\n      <th>succeeded</th>\n      <th>translating</th>\n      <th>united</th>\n      <th>water</th>\n      <th>watercress</th>\n    </tr>\n  </thead>\n  <tbody>\n    <tr>\n      <th>0</th>\n      <td>0</td>\n      <td>0</td>\n      <td>1</td>\n      <td>1</td>\n      <td>0</td>\n      <td>0</td>\n      <td>0</td>\n      <td>0</td>\n      <td>0</td>\n      <td>0</td>\n      <td>...</td>\n      <td>0</td>\n      <td>1</td>\n      <td>0</td>\n      <td>0</td>\n      <td>0</td>\n      <td>0</td>\n      <td>0</td>\n      <td>0</td>\n      <td>0</td>\n      <td>0</td>\n    </tr>\n    <tr>\n      <th>1</th>\n      <td>0</td>\n      <td>0</td>\n      <td>0</td>\n      <td>0</td>\n      <td>0</td>\n      <td>0</td>\n      <td>0</td>\n      <td>0</td>\n      <td>1</td>\n      <td>0</td>\n      <td>...</td>\n      <td>0</td>\n      <td>0</td>\n      <td>0</td>\n      <td>1</td>\n      <td>1</td>\n      <td>0</td>\n      <td>0</td>\n      <td>1</td>\n      <td>0</td>\n      <td>0</td>\n    </tr>\n    <tr>\n      <th>2</th>\n      <td>0</td>\n      <td>0</td>\n      <td>0</td>\n      <td>0</td>\n      <td>0</td>\n      <td>0</td>\n      <td>0</td>\n      <td>0</td>\n      <td>0</td>\n      <td>0</td>\n      <td>...</td>\n      <td>1</td>\n      <td>0</td>\n      <td>0</td>\n      <td>0</td>\n      <td>0</td>\n      <td>0</td>\n      <td>0</td>\n      <td>0</td>\n      <td>1</td>\n      <td>1</td>\n    </tr>\n    <tr>\n      <th>3</th>\n      <td>0</td>\n      <td>0</td>\n      <td>0</td>\n      <td>0</td>\n      <td>0</td>\n      <td>0</td>\n      <td>1</td>\n      <td>0</td>\n      <td>2</td>\n      <td>1</td>\n      <td>...</td>\n      <td>0</td>\n      <td>0</td>\n      <td>0</td>\n      <td>0</td>\n      <td>0</td>\n      <td>1</td>\n      <td>0</td>\n      <td>0</td>\n      <td>0</td>\n      <td>0</td>\n    </tr>\n    <tr>\n      <th>4</th>\n      <td>1</td>\n      <td>0</td>\n      <td>0</td>\n      <td>0</td>\n      <td>0</td>\n      <td>1</td>\n      <td>0</td>\n      <td>0</td>\n      <td>0</td>\n      <td>0</td>\n      <td>...</td>\n      <td>0</td>\n      <td>0</td>\n      <td>1</td>\n      <td>0</td>\n      <td>0</td>\n      <td>0</td>\n      <td>1</td>\n      <td>0</td>\n      <td>0</td>\n      <td>0</td>\n    </tr>\n    <tr>\n      <th>5</th>\n      <td>0</td>\n      <td>1</td>\n      <td>0</td>\n      <td>0</td>\n      <td>0</td>\n      <td>0</td>\n      <td>0</td>\n      <td>1</td>\n      <td>0</td>\n      <td>0</td>\n      <td>...</td>\n      <td>3</td>\n      <td>0</td>\n      <td>0</td>\n      <td>0</td>\n      <td>0</td>\n      <td>0</td>\n      <td>0</td>\n      <td>0</td>\n      <td>0</td>\n      <td>1</td>\n    </tr>\n    <tr>\n      <th>6</th>\n      <td>1</td>\n      <td>0</td>\n      <td>0</td>\n      <td>0</td>\n      <td>1</td>\n      <td>0</td>\n      <td>0</td>\n      <td>0</td>\n      <td>0</td>\n      <td>0</td>\n      <td>...</td>\n      <td>0</td>\n      <td>0</td>\n      <td>0</td>\n      <td>0</td>\n      <td>0</td>\n      <td>0</td>\n      <td>0</td>\n      <td>0</td>\n      <td>0</td>\n      <td>0</td>\n    </tr>\n  </tbody>\n</table>\n<p>7 rows × 46 columns</p>\n</div>"
     },
     "execution_count": 4,
     "metadata": {},
     "output_type": "execute_result"
    }
   ],
   "source": [
    "from sklearn.feature_extraction.text import CountVectorizer\n",
    "\n",
    "cv = CountVectorizer(min_df=0., max_df=1.)\n",
    "\n",
    "cv_matrix = cv.fit_transform(p_corpus)\n",
    "cv_matrix = cv_matrix.toarray()\n",
    "\n",
    "unigrams = cv.get_feature_names_out()\n",
    "pd.DataFrame(cv_matrix, columns=unigrams)"
   ],
   "metadata": {
    "collapsed": false,
    "pycharm": {
     "name": "#%%\n"
    }
   }
  },
  {
   "cell_type": "code",
   "execution_count": 5,
   "outputs": [
    {
     "data": {
      "text/plain": "   acronyms appear  acronyms spacerelated  add watercress  aeronautics space  \\\n0                0                      0               0                  1   \n1                0                      0               0                  0   \n2                0                      0               0                  0   \n3                0                      0               0                  0   \n4                0                      1               0                  0   \n5                0                      0               1                  0   \n6                1                      0               0                  0   \n\n   appear multiple  appearing acronyms  applying objective  bowl add  \\\n0                0                   0                   0         0   \n1                0                   0                   0         0   \n2                0                   0                   0         0   \n3                0                   0                   1         0   \n4                0                   1                   0         0   \n5                0                   0                   0         1   \n6                1                   0                   0         0   \n\n   cesarean delivery  cesarean rate  ...  soup simmering  \\\n0                  0              0  ...               0   \n1                  0              1  ...               0   \n2                  0              0  ...               1   \n3                  2              0  ...               0   \n4                  0              0  ...               0   \n5                  0              0  ...               0   \n6                  0              0  ...               0   \n\n   space administration  spacerelated newsgroups  states steadily  \\\n0                     1                        0                0   \n1                     0                        0                1   \n2                     0                        0                0   \n3                     0                        0                0   \n4                     0                        1                0   \n5                     0                        0                0   \n6                     0                        0                0   \n\n   steadily increased  succeeded reducing  translating commonly  \\\n0                   0                   0                     0   \n1                   1                   0                     0   \n2                   0                   0                     0   \n3                   0                   1                     0   \n4                   0                   0                     1   \n5                   0                   0                     0   \n6                   0                   0                     0   \n\n   united states  watercress large  watercress puree  \n0              0                 0                 0  \n1              1                 0                 0  \n2              0                 1                 0  \n3              0                 0                 0  \n4              0                 0                 0  \n5              0                 0                 1  \n6              0                 0                 0  \n\n[7 rows x 49 columns]",
      "text/html": "<div>\n<style scoped>\n    .dataframe tbody tr th:only-of-type {\n        vertical-align: middle;\n    }\n\n    .dataframe tbody tr th {\n        vertical-align: top;\n    }\n\n    .dataframe thead th {\n        text-align: right;\n    }\n</style>\n<table border=\"1\" class=\"dataframe\">\n  <thead>\n    <tr style=\"text-align: right;\">\n      <th></th>\n      <th>acronyms appear</th>\n      <th>acronyms spacerelated</th>\n      <th>add watercress</th>\n      <th>aeronautics space</th>\n      <th>appear multiple</th>\n      <th>appearing acronyms</th>\n      <th>applying objective</th>\n      <th>bowl add</th>\n      <th>cesarean delivery</th>\n      <th>cesarean rate</th>\n      <th>...</th>\n      <th>soup simmering</th>\n      <th>space administration</th>\n      <th>spacerelated newsgroups</th>\n      <th>states steadily</th>\n      <th>steadily increased</th>\n      <th>succeeded reducing</th>\n      <th>translating commonly</th>\n      <th>united states</th>\n      <th>watercress large</th>\n      <th>watercress puree</th>\n    </tr>\n  </thead>\n  <tbody>\n    <tr>\n      <th>0</th>\n      <td>0</td>\n      <td>0</td>\n      <td>0</td>\n      <td>1</td>\n      <td>0</td>\n      <td>0</td>\n      <td>0</td>\n      <td>0</td>\n      <td>0</td>\n      <td>0</td>\n      <td>...</td>\n      <td>0</td>\n      <td>1</td>\n      <td>0</td>\n      <td>0</td>\n      <td>0</td>\n      <td>0</td>\n      <td>0</td>\n      <td>0</td>\n      <td>0</td>\n      <td>0</td>\n    </tr>\n    <tr>\n      <th>1</th>\n      <td>0</td>\n      <td>0</td>\n      <td>0</td>\n      <td>0</td>\n      <td>0</td>\n      <td>0</td>\n      <td>0</td>\n      <td>0</td>\n      <td>0</td>\n      <td>1</td>\n      <td>...</td>\n      <td>0</td>\n      <td>0</td>\n      <td>0</td>\n      <td>1</td>\n      <td>1</td>\n      <td>0</td>\n      <td>0</td>\n      <td>1</td>\n      <td>0</td>\n      <td>0</td>\n    </tr>\n    <tr>\n      <th>2</th>\n      <td>0</td>\n      <td>0</td>\n      <td>0</td>\n      <td>0</td>\n      <td>0</td>\n      <td>0</td>\n      <td>0</td>\n      <td>0</td>\n      <td>0</td>\n      <td>0</td>\n      <td>...</td>\n      <td>1</td>\n      <td>0</td>\n      <td>0</td>\n      <td>0</td>\n      <td>0</td>\n      <td>0</td>\n      <td>0</td>\n      <td>0</td>\n      <td>1</td>\n      <td>0</td>\n    </tr>\n    <tr>\n      <th>3</th>\n      <td>0</td>\n      <td>0</td>\n      <td>0</td>\n      <td>0</td>\n      <td>0</td>\n      <td>0</td>\n      <td>1</td>\n      <td>0</td>\n      <td>2</td>\n      <td>0</td>\n      <td>...</td>\n      <td>0</td>\n      <td>0</td>\n      <td>0</td>\n      <td>0</td>\n      <td>0</td>\n      <td>1</td>\n      <td>0</td>\n      <td>0</td>\n      <td>0</td>\n      <td>0</td>\n    </tr>\n    <tr>\n      <th>4</th>\n      <td>0</td>\n      <td>1</td>\n      <td>0</td>\n      <td>0</td>\n      <td>0</td>\n      <td>1</td>\n      <td>0</td>\n      <td>0</td>\n      <td>0</td>\n      <td>0</td>\n      <td>...</td>\n      <td>0</td>\n      <td>0</td>\n      <td>1</td>\n      <td>0</td>\n      <td>0</td>\n      <td>0</td>\n      <td>1</td>\n      <td>0</td>\n      <td>0</td>\n      <td>0</td>\n    </tr>\n    <tr>\n      <th>5</th>\n      <td>0</td>\n      <td>0</td>\n      <td>1</td>\n      <td>0</td>\n      <td>0</td>\n      <td>0</td>\n      <td>0</td>\n      <td>1</td>\n      <td>0</td>\n      <td>0</td>\n      <td>...</td>\n      <td>0</td>\n      <td>0</td>\n      <td>0</td>\n      <td>0</td>\n      <td>0</td>\n      <td>0</td>\n      <td>0</td>\n      <td>0</td>\n      <td>0</td>\n      <td>1</td>\n    </tr>\n    <tr>\n      <th>6</th>\n      <td>1</td>\n      <td>0</td>\n      <td>0</td>\n      <td>0</td>\n      <td>1</td>\n      <td>0</td>\n      <td>0</td>\n      <td>0</td>\n      <td>0</td>\n      <td>0</td>\n      <td>...</td>\n      <td>0</td>\n      <td>0</td>\n      <td>0</td>\n      <td>0</td>\n      <td>0</td>\n      <td>0</td>\n      <td>0</td>\n      <td>0</td>\n      <td>0</td>\n      <td>0</td>\n    </tr>\n  </tbody>\n</table>\n<p>7 rows × 49 columns</p>\n</div>"
     },
     "execution_count": 5,
     "metadata": {},
     "output_type": "execute_result"
    }
   ],
   "source": [
    "from sklearn.feature_extraction.text import CountVectorizer\n",
    "\n",
    "bv = CountVectorizer(ngram_range=(2, 2))\n",
    "\n",
    "bv_matrix = bv.fit_transform(p_corpus)\n",
    "bv_matrix = bv_matrix.toarray()\n",
    "\n",
    "bigrams = bv.get_feature_names_out()\n",
    "pd.DataFrame(bv_matrix, columns=bigrams)"
   ],
   "metadata": {
    "collapsed": false,
    "pycharm": {
     "name": "#%%\n"
    }
   }
  },
  {
   "cell_type": "code",
   "execution_count": 6,
   "outputs": [
    {
     "data": {
      "text/plain": "['acronyms',\n 'add',\n 'administration',\n 'aeronautics',\n 'appear',\n 'appearing',\n 'applying',\n 'bowl',\n 'cesarean',\n 'common',\n 'commonly',\n 'criteria',\n 'delivery',\n 'edition',\n 'four',\n 'heated',\n 'hospital',\n 'increased',\n 'indications',\n 'ladle',\n 'large',\n 'lines',\n 'list',\n 'multiple',\n 'national',\n 'newsgroups',\n 'objective',\n 'offered',\n 'one',\n 'plunge',\n 'puree',\n 'rate',\n 'reducing',\n 'reference',\n 'saucepan',\n 'simmering',\n 'soup',\n 'space',\n 'spacerelated',\n 'states',\n 'steadily',\n 'succeeded',\n 'translating',\n 'united',\n 'water',\n 'watercress',\n 'acronyms appear',\n 'acronyms spacerelated',\n 'add watercress',\n 'aeronautics space',\n 'appear multiple',\n 'appearing acronyms',\n 'applying objective',\n 'bowl add',\n 'cesarean delivery',\n 'cesarean rate',\n 'common indications',\n 'commonly appearing',\n 'criteria four',\n 'delivery applying',\n 'edition list',\n 'four common',\n 'heated soup',\n 'hospital succeeded',\n 'indications cesarean',\n 'ladle soup',\n 'large saucepan',\n 'list acronyms',\n 'list offered',\n 'multiple lines',\n 'national aeronautics',\n 'objective criteria',\n 'offered reference',\n 'one hospital',\n 'plunge watercress',\n 'puree soup',\n 'rate cesarean',\n 'rate united',\n 'reducing rate',\n 'reference translating',\n 'saucepan simmering',\n 'simmering plunge',\n 'simmering water',\n 'soup bowl',\n 'soup heated',\n 'soup simmering',\n 'space administration',\n 'spacerelated newsgroups',\n 'states steadily',\n 'steadily increased',\n 'succeeded reducing',\n 'translating commonly',\n 'united states',\n 'watercress large',\n 'watercress puree']"
     },
     "execution_count": 6,
     "metadata": {},
     "output_type": "execute_result"
    }
   ],
   "source": [
    "vocab = unigrams.tolist() + bigrams.tolist()\n",
    "vocab"
   ],
   "metadata": {
    "collapsed": false,
    "pycharm": {
     "name": "#%%\n"
    }
   }
  },
  {
   "cell_type": "code",
   "execution_count": 7,
   "outputs": [
    {
     "data": {
      "text/plain": "   acronyms  acronyms appear  acronyms spacerelated  add  add watercress  \\\n0         0                0                      0    0               0   \n1         0                0                      0    0               0   \n2         0                0                      0    0               0   \n3         0                0                      0    0               0   \n4         1                0                      1    0               0   \n5         0                0                      0    1               1   \n6         1                1                      0    0               0   \n\n   administration  aeronautics  aeronautics space  appear  appear multiple  \\\n0               1            1                  1       0                0   \n1               0            0                  0       0                0   \n2               0            0                  0       0                0   \n3               0            0                  0       0                0   \n4               0            0                  0       0                0   \n5               0            0                  0       0                0   \n6               0            0                  0       1                1   \n\n   ...  succeeded  succeeded reducing  translating  translating commonly  \\\n0  ...          0                   0            0                     0   \n1  ...          0                   0            0                     0   \n2  ...          0                   0            0                     0   \n3  ...          1                   1            0                     0   \n4  ...          0                   0            1                     1   \n5  ...          0                   0            0                     0   \n6  ...          0                   0            0                     0   \n\n   united  united states  water  watercress  watercress large  \\\n0       0              0      0           0                 0   \n1       1              1      0           0                 0   \n2       0              0      1           1                 1   \n3       0              0      0           0                 0   \n4       0              0      0           0                 0   \n5       0              0      0           1                 0   \n6       0              0      0           0                 0   \n\n   watercress puree  \n0                 0  \n1                 0  \n2                 0  \n3                 0  \n4                 0  \n5                 1  \n6                 0  \n\n[7 rows x 95 columns]",
      "text/html": "<div>\n<style scoped>\n    .dataframe tbody tr th:only-of-type {\n        vertical-align: middle;\n    }\n\n    .dataframe tbody tr th {\n        vertical-align: top;\n    }\n\n    .dataframe thead th {\n        text-align: right;\n    }\n</style>\n<table border=\"1\" class=\"dataframe\">\n  <thead>\n    <tr style=\"text-align: right;\">\n      <th></th>\n      <th>acronyms</th>\n      <th>acronyms appear</th>\n      <th>acronyms spacerelated</th>\n      <th>add</th>\n      <th>add watercress</th>\n      <th>administration</th>\n      <th>aeronautics</th>\n      <th>aeronautics space</th>\n      <th>appear</th>\n      <th>appear multiple</th>\n      <th>...</th>\n      <th>succeeded</th>\n      <th>succeeded reducing</th>\n      <th>translating</th>\n      <th>translating commonly</th>\n      <th>united</th>\n      <th>united states</th>\n      <th>water</th>\n      <th>watercress</th>\n      <th>watercress large</th>\n      <th>watercress puree</th>\n    </tr>\n  </thead>\n  <tbody>\n    <tr>\n      <th>0</th>\n      <td>0</td>\n      <td>0</td>\n      <td>0</td>\n      <td>0</td>\n      <td>0</td>\n      <td>1</td>\n      <td>1</td>\n      <td>1</td>\n      <td>0</td>\n      <td>0</td>\n      <td>...</td>\n      <td>0</td>\n      <td>0</td>\n      <td>0</td>\n      <td>0</td>\n      <td>0</td>\n      <td>0</td>\n      <td>0</td>\n      <td>0</td>\n      <td>0</td>\n      <td>0</td>\n    </tr>\n    <tr>\n      <th>1</th>\n      <td>0</td>\n      <td>0</td>\n      <td>0</td>\n      <td>0</td>\n      <td>0</td>\n      <td>0</td>\n      <td>0</td>\n      <td>0</td>\n      <td>0</td>\n      <td>0</td>\n      <td>...</td>\n      <td>0</td>\n      <td>0</td>\n      <td>0</td>\n      <td>0</td>\n      <td>1</td>\n      <td>1</td>\n      <td>0</td>\n      <td>0</td>\n      <td>0</td>\n      <td>0</td>\n    </tr>\n    <tr>\n      <th>2</th>\n      <td>0</td>\n      <td>0</td>\n      <td>0</td>\n      <td>0</td>\n      <td>0</td>\n      <td>0</td>\n      <td>0</td>\n      <td>0</td>\n      <td>0</td>\n      <td>0</td>\n      <td>...</td>\n      <td>0</td>\n      <td>0</td>\n      <td>0</td>\n      <td>0</td>\n      <td>0</td>\n      <td>0</td>\n      <td>1</td>\n      <td>1</td>\n      <td>1</td>\n      <td>0</td>\n    </tr>\n    <tr>\n      <th>3</th>\n      <td>0</td>\n      <td>0</td>\n      <td>0</td>\n      <td>0</td>\n      <td>0</td>\n      <td>0</td>\n      <td>0</td>\n      <td>0</td>\n      <td>0</td>\n      <td>0</td>\n      <td>...</td>\n      <td>1</td>\n      <td>1</td>\n      <td>0</td>\n      <td>0</td>\n      <td>0</td>\n      <td>0</td>\n      <td>0</td>\n      <td>0</td>\n      <td>0</td>\n      <td>0</td>\n    </tr>\n    <tr>\n      <th>4</th>\n      <td>1</td>\n      <td>0</td>\n      <td>1</td>\n      <td>0</td>\n      <td>0</td>\n      <td>0</td>\n      <td>0</td>\n      <td>0</td>\n      <td>0</td>\n      <td>0</td>\n      <td>...</td>\n      <td>0</td>\n      <td>0</td>\n      <td>1</td>\n      <td>1</td>\n      <td>0</td>\n      <td>0</td>\n      <td>0</td>\n      <td>0</td>\n      <td>0</td>\n      <td>0</td>\n    </tr>\n    <tr>\n      <th>5</th>\n      <td>0</td>\n      <td>0</td>\n      <td>0</td>\n      <td>1</td>\n      <td>1</td>\n      <td>0</td>\n      <td>0</td>\n      <td>0</td>\n      <td>0</td>\n      <td>0</td>\n      <td>...</td>\n      <td>0</td>\n      <td>0</td>\n      <td>0</td>\n      <td>0</td>\n      <td>0</td>\n      <td>0</td>\n      <td>0</td>\n      <td>1</td>\n      <td>0</td>\n      <td>1</td>\n    </tr>\n    <tr>\n      <th>6</th>\n      <td>1</td>\n      <td>1</td>\n      <td>0</td>\n      <td>0</td>\n      <td>0</td>\n      <td>0</td>\n      <td>0</td>\n      <td>0</td>\n      <td>1</td>\n      <td>1</td>\n      <td>...</td>\n      <td>0</td>\n      <td>0</td>\n      <td>0</td>\n      <td>0</td>\n      <td>0</td>\n      <td>0</td>\n      <td>0</td>\n      <td>0</td>\n      <td>0</td>\n      <td>0</td>\n    </tr>\n  </tbody>\n</table>\n<p>7 rows × 95 columns</p>\n</div>"
     },
     "execution_count": 7,
     "metadata": {},
     "output_type": "execute_result"
    }
   ],
   "source": [
    "all_cv = CountVectorizer(ngram_range=(1, 2))\n",
    "\n",
    "matrix = all_cv.fit_transform(p_corpus)\n",
    "matrix = matrix.toarray()\n",
    "\n",
    "ngrams = all_cv.get_feature_names_out()\n",
    "\n",
    "df = pd.DataFrame(matrix, columns=ngrams)\n",
    "df"
   ],
   "metadata": {
    "collapsed": false,
    "pycharm": {
     "name": "#%%\n"
    }
   }
  },
  {
   "cell_type": "code",
   "execution_count": 8,
   "outputs": [
    {
     "data": {
      "text/plain": "   cesarean  cesarean delivery  cesarean rate\n0         0                  0              0\n1         1                  0              1\n2         0                  0              0\n3         2                  2              0\n4         0                  0              0\n5         0                  0              0\n6         0                  0              0",
      "text/html": "<div>\n<style scoped>\n    .dataframe tbody tr th:only-of-type {\n        vertical-align: middle;\n    }\n\n    .dataframe tbody tr th {\n        vertical-align: top;\n    }\n\n    .dataframe thead th {\n        text-align: right;\n    }\n</style>\n<table border=\"1\" class=\"dataframe\">\n  <thead>\n    <tr style=\"text-align: right;\">\n      <th></th>\n      <th>cesarean</th>\n      <th>cesarean delivery</th>\n      <th>cesarean rate</th>\n    </tr>\n  </thead>\n  <tbody>\n    <tr>\n      <th>0</th>\n      <td>0</td>\n      <td>0</td>\n      <td>0</td>\n    </tr>\n    <tr>\n      <th>1</th>\n      <td>1</td>\n      <td>0</td>\n      <td>1</td>\n    </tr>\n    <tr>\n      <th>2</th>\n      <td>0</td>\n      <td>0</td>\n      <td>0</td>\n    </tr>\n    <tr>\n      <th>3</th>\n      <td>2</td>\n      <td>2</td>\n      <td>0</td>\n    </tr>\n    <tr>\n      <th>4</th>\n      <td>0</td>\n      <td>0</td>\n      <td>0</td>\n    </tr>\n    <tr>\n      <th>5</th>\n      <td>0</td>\n      <td>0</td>\n      <td>0</td>\n    </tr>\n    <tr>\n      <th>6</th>\n      <td>0</td>\n      <td>0</td>\n      <td>0</td>\n    </tr>\n  </tbody>\n</table>\n</div>"
     },
     "execution_count": 8,
     "metadata": {},
     "output_type": "execute_result"
    }
   ],
   "source": [
    "df[['cesarean', 'cesarean delivery', 'cesarean rate']]"
   ],
   "metadata": {
    "collapsed": false,
    "pycharm": {
     "name": "#%%\n"
    }
   }
  },
  {
   "cell_type": "code",
   "execution_count": 9,
   "outputs": [
    {
     "data": {
      "text/plain": "   cesarean delivery\n0                  0\n1                  0\n2                  0\n3                  2\n4                  0\n5                  0\n6                  0",
      "text/html": "<div>\n<style scoped>\n    .dataframe tbody tr th:only-of-type {\n        vertical-align: middle;\n    }\n\n    .dataframe tbody tr th {\n        vertical-align: top;\n    }\n\n    .dataframe thead th {\n        text-align: right;\n    }\n</style>\n<table border=\"1\" class=\"dataframe\">\n  <thead>\n    <tr style=\"text-align: right;\">\n      <th></th>\n      <th>cesarean delivery</th>\n    </tr>\n  </thead>\n  <tbody>\n    <tr>\n      <th>0</th>\n      <td>0</td>\n    </tr>\n    <tr>\n      <th>1</th>\n      <td>0</td>\n    </tr>\n    <tr>\n      <th>2</th>\n      <td>0</td>\n    </tr>\n    <tr>\n      <th>3</th>\n      <td>2</td>\n    </tr>\n    <tr>\n      <th>4</th>\n      <td>0</td>\n    </tr>\n    <tr>\n      <th>5</th>\n      <td>0</td>\n    </tr>\n    <tr>\n      <th>6</th>\n      <td>0</td>\n    </tr>\n  </tbody>\n</table>\n</div>"
     },
     "execution_count": 9,
     "metadata": {},
     "output_type": "execute_result"
    }
   ],
   "source": [
    "df[['cesarean delivery']]"
   ],
   "metadata": {
    "collapsed": false,
    "pycharm": {
     "name": "#%%\n"
    }
   }
  },
  {
   "cell_type": "markdown",
   "source": [
    "#### Task 2"
   ],
   "metadata": {
    "collapsed": false,
    "pycharm": {
     "name": "#%% md\n"
    }
   }
  },
  {
   "cell_type": "code",
   "execution_count": 10,
   "outputs": [
    {
     "data": {
      "text/plain": "   acronyms   add  administration  aeronautics  appear  appearing  applying  \\\n0      0.00  0.00             0.5          0.5    0.00       0.00      0.00   \n1      0.00  0.00             0.0          0.0    0.00       0.00      0.00   \n2      0.00  0.00             0.0          0.0    0.00       0.00      0.00   \n3      0.00  0.00             0.0          0.0    0.00       0.00      0.24   \n4      0.29  0.00             0.0          0.0    0.00       0.35      0.00   \n5      0.00  0.29             0.0          0.0    0.00       0.00      0.00   \n6      0.36  0.00             0.0          0.0    0.43       0.00      0.00   \n\n   bowl  cesarean  common  ...  soup  space  spacerelated  states  steadily  \\\n0  0.00      0.00    0.00  ...  0.00    0.5          0.00    0.00      0.00   \n1  0.00      0.36    0.00  ...  0.00    0.0          0.00    0.43      0.43   \n2  0.00      0.00    0.00  ...  0.27    0.0          0.00    0.00      0.00   \n3  0.00      0.40    0.24  ...  0.00    0.0          0.00    0.00      0.00   \n4  0.00      0.00    0.00  ...  0.00    0.0          0.35    0.00      0.00   \n5  0.29      0.00    0.00  ...  0.72    0.0          0.00    0.00      0.00   \n6  0.00      0.00    0.00  ...  0.00    0.0          0.00    0.00      0.00   \n\n   succeeded  translating  united  water  watercress  \n0       0.00         0.00    0.00   0.00        0.00  \n1       0.00         0.00    0.43   0.00        0.00  \n2       0.00         0.00    0.00   0.33        0.27  \n3       0.24         0.00    0.00   0.00        0.00  \n4       0.00         0.35    0.00   0.00        0.00  \n5       0.00         0.00    0.00   0.00        0.24  \n6       0.00         0.00    0.00   0.00        0.00  \n\n[7 rows x 46 columns]",
      "text/html": "<div>\n<style scoped>\n    .dataframe tbody tr th:only-of-type {\n        vertical-align: middle;\n    }\n\n    .dataframe tbody tr th {\n        vertical-align: top;\n    }\n\n    .dataframe thead th {\n        text-align: right;\n    }\n</style>\n<table border=\"1\" class=\"dataframe\">\n  <thead>\n    <tr style=\"text-align: right;\">\n      <th></th>\n      <th>acronyms</th>\n      <th>add</th>\n      <th>administration</th>\n      <th>aeronautics</th>\n      <th>appear</th>\n      <th>appearing</th>\n      <th>applying</th>\n      <th>bowl</th>\n      <th>cesarean</th>\n      <th>common</th>\n      <th>...</th>\n      <th>soup</th>\n      <th>space</th>\n      <th>spacerelated</th>\n      <th>states</th>\n      <th>steadily</th>\n      <th>succeeded</th>\n      <th>translating</th>\n      <th>united</th>\n      <th>water</th>\n      <th>watercress</th>\n    </tr>\n  </thead>\n  <tbody>\n    <tr>\n      <th>0</th>\n      <td>0.00</td>\n      <td>0.00</td>\n      <td>0.5</td>\n      <td>0.5</td>\n      <td>0.00</td>\n      <td>0.00</td>\n      <td>0.00</td>\n      <td>0.00</td>\n      <td>0.00</td>\n      <td>0.00</td>\n      <td>...</td>\n      <td>0.00</td>\n      <td>0.5</td>\n      <td>0.00</td>\n      <td>0.00</td>\n      <td>0.00</td>\n      <td>0.00</td>\n      <td>0.00</td>\n      <td>0.00</td>\n      <td>0.00</td>\n      <td>0.00</td>\n    </tr>\n    <tr>\n      <th>1</th>\n      <td>0.00</td>\n      <td>0.00</td>\n      <td>0.0</td>\n      <td>0.0</td>\n      <td>0.00</td>\n      <td>0.00</td>\n      <td>0.00</td>\n      <td>0.00</td>\n      <td>0.36</td>\n      <td>0.00</td>\n      <td>...</td>\n      <td>0.00</td>\n      <td>0.0</td>\n      <td>0.00</td>\n      <td>0.43</td>\n      <td>0.43</td>\n      <td>0.00</td>\n      <td>0.00</td>\n      <td>0.43</td>\n      <td>0.00</td>\n      <td>0.00</td>\n    </tr>\n    <tr>\n      <th>2</th>\n      <td>0.00</td>\n      <td>0.00</td>\n      <td>0.0</td>\n      <td>0.0</td>\n      <td>0.00</td>\n      <td>0.00</td>\n      <td>0.00</td>\n      <td>0.00</td>\n      <td>0.00</td>\n      <td>0.00</td>\n      <td>...</td>\n      <td>0.27</td>\n      <td>0.0</td>\n      <td>0.00</td>\n      <td>0.00</td>\n      <td>0.00</td>\n      <td>0.00</td>\n      <td>0.00</td>\n      <td>0.00</td>\n      <td>0.33</td>\n      <td>0.27</td>\n    </tr>\n    <tr>\n      <th>3</th>\n      <td>0.00</td>\n      <td>0.00</td>\n      <td>0.0</td>\n      <td>0.0</td>\n      <td>0.00</td>\n      <td>0.00</td>\n      <td>0.24</td>\n      <td>0.00</td>\n      <td>0.40</td>\n      <td>0.24</td>\n      <td>...</td>\n      <td>0.00</td>\n      <td>0.0</td>\n      <td>0.00</td>\n      <td>0.00</td>\n      <td>0.00</td>\n      <td>0.24</td>\n      <td>0.00</td>\n      <td>0.00</td>\n      <td>0.00</td>\n      <td>0.00</td>\n    </tr>\n    <tr>\n      <th>4</th>\n      <td>0.29</td>\n      <td>0.00</td>\n      <td>0.0</td>\n      <td>0.0</td>\n      <td>0.00</td>\n      <td>0.35</td>\n      <td>0.00</td>\n      <td>0.00</td>\n      <td>0.00</td>\n      <td>0.00</td>\n      <td>...</td>\n      <td>0.00</td>\n      <td>0.0</td>\n      <td>0.35</td>\n      <td>0.00</td>\n      <td>0.00</td>\n      <td>0.00</td>\n      <td>0.35</td>\n      <td>0.00</td>\n      <td>0.00</td>\n      <td>0.00</td>\n    </tr>\n    <tr>\n      <th>5</th>\n      <td>0.00</td>\n      <td>0.29</td>\n      <td>0.0</td>\n      <td>0.0</td>\n      <td>0.00</td>\n      <td>0.00</td>\n      <td>0.00</td>\n      <td>0.29</td>\n      <td>0.00</td>\n      <td>0.00</td>\n      <td>...</td>\n      <td>0.72</td>\n      <td>0.0</td>\n      <td>0.00</td>\n      <td>0.00</td>\n      <td>0.00</td>\n      <td>0.00</td>\n      <td>0.00</td>\n      <td>0.00</td>\n      <td>0.00</td>\n      <td>0.24</td>\n    </tr>\n    <tr>\n      <th>6</th>\n      <td>0.36</td>\n      <td>0.00</td>\n      <td>0.0</td>\n      <td>0.0</td>\n      <td>0.43</td>\n      <td>0.00</td>\n      <td>0.00</td>\n      <td>0.00</td>\n      <td>0.00</td>\n      <td>0.00</td>\n      <td>...</td>\n      <td>0.00</td>\n      <td>0.0</td>\n      <td>0.00</td>\n      <td>0.00</td>\n      <td>0.00</td>\n      <td>0.00</td>\n      <td>0.00</td>\n      <td>0.00</td>\n      <td>0.00</td>\n      <td>0.00</td>\n    </tr>\n  </tbody>\n</table>\n<p>7 rows × 46 columns</p>\n</div>"
     },
     "execution_count": 10,
     "metadata": {},
     "output_type": "execute_result"
    }
   ],
   "source": [
    "from sklearn.feature_extraction.text import TfidfTransformer\n",
    "\n",
    "tt = TfidfTransformer(norm='l2', use_idf=True)\n",
    "tv_matrix = tt.fit_transform(cv_matrix)\n",
    "tv_matrix = tv_matrix.toarray()\n",
    "vocab = cv.get_feature_names_out()\n",
    "pd.DataFrame(np.round(tv_matrix, 2), columns=vocab)"
   ],
   "metadata": {
    "collapsed": false,
    "pycharm": {
     "name": "#%%\n"
    }
   }
  },
  {
   "cell_type": "code",
   "execution_count": 11,
   "outputs": [
    {
     "data": {
      "text/plain": "array([[1.        , 0.        , 0.        , 0.        , 0.        ,\n        0.        , 0.        ],\n       [0.        , 1.        , 0.        , 0.21341028, 0.        ,\n        0.        , 0.        ],\n       [0.        , 0.        , 1.        , 0.        , 0.        ,\n        0.26100586, 0.        ],\n       [0.        , 0.21341028, 0.        , 1.        , 0.        ,\n        0.        , 0.        ],\n       [0.        , 0.        , 0.        , 0.        , 1.        ,\n        0.        , 0.20530041],\n       [0.        , 0.        , 0.26100586, 0.        , 0.        ,\n        1.        , 0.        ],\n       [0.        , 0.        , 0.        , 0.        , 0.20530041,\n        0.        , 1.        ]])"
     },
     "execution_count": 11,
     "metadata": {},
     "output_type": "execute_result"
    }
   ],
   "source": [
    "from sklearn.metrics.pairwise import cosine_similarity\n",
    "\n",
    "similarity_matrix = cosine_similarity(tv_matrix)\n",
    "similarity_matrix"
   ],
   "metadata": {
    "collapsed": false,
    "pycharm": {
     "name": "#%%\n"
    }
   }
  },
  {
   "cell_type": "code",
   "execution_count": 12,
   "outputs": [
    {
     "data": {
      "text/plain": "{'icoord': [[5.0, 5.0, 15.0, 15.0],\n  [25.0, 25.0, 35.0, 35.0],\n  [55.0, 55.0, 65.0, 65.0],\n  [45.0, 45.0, 60.0, 60.0],\n  [30.0, 30.0, 52.5, 52.5],\n  [10.0, 10.0, 41.25, 41.25]],\n 'dcoord': [[0.0, 1.0450955363399115, 1.0450955363399115, 0.0],\n  [0.0, 1.1124058509128292, 1.1124058509128292, 0.0],\n  [0.0, 1.1238749313708993, 1.1238749313708993, 0.0],\n  [0.0, 1.5171792005715206, 1.5171792005715206, 1.1238749313708993],\n  [1.1124058509128292,\n   1.6757993879539028,\n   1.6757993879539028,\n   1.5171792005715206],\n  [1.0450955363399115,\n   1.747714406417285,\n   1.747714406417285,\n   1.6757993879539028]],\n 'ivl': ['2', '5', '1', '3', '0', '4', '6'],\n 'leaves': [2, 5, 1, 3, 0, 4, 6],\n 'color_list': ['C1', 'C2', 'C3', 'C0', 'C0', 'C0'],\n 'leaves_color_list': ['C1', 'C1', 'C2', 'C2', 'C0', 'C3', 'C3']}"
     },
     "execution_count": 12,
     "metadata": {},
     "output_type": "execute_result"
    },
    {
     "data": {
      "text/plain": "<Figure size 1000x500 with 1 Axes>",
      "image/png": "[encoded data removed]"
     },
     "metadata": {},
     "output_type": "display_data"
    }
   ],
   "source": [
    "from matplotlib import pyplot as plt\n",
    "from scipy.cluster.hierarchy import dendrogram, linkage\n",
    "\n",
    "links = linkage(similarity_matrix, 'ward')\n",
    "\n",
    "plt.figure(figsize=(10, 5))\n",
    "plt.title('Дендрограма')\n",
    "plt.xlabel('Документи')\n",
    "plt.ylabel('Відстань')\n",
    "\n",
    "dendrogram(links)"
   ],
   "metadata": {
    "collapsed": false,
    "pycharm": {
     "name": "#%%\n"
    }
   }
  },
  {
   "cell_type": "code",
   "execution_count": 13,
   "outputs": [
    {
     "data": {
      "text/plain": "                                            Document  Category  ClusterLabel\n0     National Aeronautics and Space Administration.     space             4\n1  The cesarean rate in the United States steadil...  cesarean             2\n2  While soup is simmering, plunge watercress int...      soup             1\n3  One hospital succeeded in reducing the rate of...  cesarean             2\n4  This list is offered as a reference for transl...  acronyms             3\n5  Ladle soup into heated soup bowl. Add watercre...      soup             1\n6  As of Edition 3 of the list, these acronyms ap...  acronyms             3",
      "text/html": "<div>\n<style scoped>\n    .dataframe tbody tr th:only-of-type {\n        vertical-align: middle;\n    }\n\n    .dataframe tbody tr th {\n        vertical-align: top;\n    }\n\n    .dataframe thead th {\n        text-align: right;\n    }\n</style>\n<table border=\"1\" class=\"dataframe\">\n  <thead>\n    <tr style=\"text-align: right;\">\n      <th></th>\n      <th>Document</th>\n      <th>Category</th>\n      <th>ClusterLabel</th>\n    </tr>\n  </thead>\n  <tbody>\n    <tr>\n      <th>0</th>\n      <td>National Aeronautics and Space Administration.</td>\n      <td>space</td>\n      <td>4</td>\n    </tr>\n    <tr>\n      <th>1</th>\n      <td>The cesarean rate in the United States steadil...</td>\n      <td>cesarean</td>\n      <td>2</td>\n    </tr>\n    <tr>\n      <th>2</th>\n      <td>While soup is simmering, plunge watercress int...</td>\n      <td>soup</td>\n      <td>1</td>\n    </tr>\n    <tr>\n      <th>3</th>\n      <td>One hospital succeeded in reducing the rate of...</td>\n      <td>cesarean</td>\n      <td>2</td>\n    </tr>\n    <tr>\n      <th>4</th>\n      <td>This list is offered as a reference for transl...</td>\n      <td>acronyms</td>\n      <td>3</td>\n    </tr>\n    <tr>\n      <th>5</th>\n      <td>Ladle soup into heated soup bowl. Add watercre...</td>\n      <td>soup</td>\n      <td>1</td>\n    </tr>\n    <tr>\n      <th>6</th>\n      <td>As of Edition 3 of the list, these acronyms ap...</td>\n      <td>acronyms</td>\n      <td>3</td>\n    </tr>\n  </tbody>\n</table>\n</div>"
     },
     "execution_count": 13,
     "metadata": {},
     "output_type": "execute_result"
    }
   ],
   "source": [
    "from scipy.cluster.hierarchy import fcluster\n",
    "\n",
    "max_dist = 1.5\n",
    "cluster_labels = fcluster(links, max_dist, criterion='distance')\n",
    "cluster_labels = pd.DataFrame(cluster_labels, columns=['ClusterLabel'])\n",
    "pd.concat([corpus_df, cluster_labels], axis=1)"
   ],
   "metadata": {
    "collapsed": false,
    "pycharm": {
     "name": "#%%\n"
    }
   }
  },
  {
   "cell_type": "markdown",
   "source": [
    "#### Task 3"
   ],
   "metadata": {
    "collapsed": false,
    "pycharm": {
     "name": "#%% md\n"
    }
   }
  },
  {
   "cell_type": "code",
   "execution_count": 14,
   "outputs": [
    {
     "data": {
      "text/plain": "[['national', 'aeronautics', 'space', 'administration'],\n ['cesarean', 'rate', 'united', 'states', 'steadily', 'increased'],\n ['soup',\n  'simmering',\n  'plunge',\n  'watercress',\n  'large',\n  'saucepan',\n  'simmering',\n  'water'],\n ['one',\n  'hospital',\n  'succeeded',\n  'reducing',\n  'rate',\n  'cesarean',\n  'delivery',\n  'applying',\n  'objective',\n  'criteria',\n  'four',\n  'common',\n  'indications',\n  'cesarean',\n  'delivery'],\n ['list',\n  'offered',\n  'reference',\n  'translating',\n  'commonly',\n  'appearing',\n  'acronyms',\n  'spacerelated',\n  'newsgroups'],\n ['ladle',\n  'soup',\n  'heated',\n  'soup',\n  'bowl',\n  'add',\n  'watercress',\n  'puree',\n  'soup'],\n ['edition', 'list', 'acronyms', 'appear', 'multiple', 'lines']]"
     },
     "execution_count": 14,
     "metadata": {},
     "output_type": "execute_result"
    }
   ],
   "source": [
    "from gensim.models.fasttext import FastText\n",
    "\n",
    "# wpt = nltk.WordPunctTokenizer()\n",
    "\n",
    "tokenized_corpus = [wpt.tokenize(document) for document in p_corpus]\n",
    "tokenized_corpus"
   ],
   "metadata": {
    "collapsed": false,
    "pycharm": {
     "name": "#%%\n"
    }
   }
  },
  {
   "cell_type": "code",
   "execution_count": 17,
   "outputs": [
    {
     "data": {
      "text/plain": "{'soup': ['applying', 'space', 'bowl', 'spacerelated', 'large'],\n 'acronyms': ['ladle', 'reference', 'four', 'states', 'watercress']}"
     },
     "execution_count": 17,
     "metadata": {},
     "output_type": "execute_result"
    }
   ],
   "source": [
    "ft_model = FastText(tokenized_corpus, vector_size=10, window=5, min_count=1, sample=0.0001, sg=1)\n",
    "\n",
    "similar_words = {search_term: [item[0] for item in ft_model.wv.most_similar([search_term], topn=5)]\n",
    "                 for search_term in ['soup', 'acronyms']}\n",
    "similar_words"
   ],
   "metadata": {
    "collapsed": false,
    "pycharm": {
     "name": "#%%\n"
    }
   }
  },
  {
   "cell_type": "code",
   "execution_count": 18,
   "outputs": [
    {
     "data": {
      "text/plain": "('ladle', 0.646049976348877)"
     },
     "execution_count": 18,
     "metadata": {},
     "output_type": "execute_result"
    }
   ],
   "source": [
    "ft_model.wv.most_similar(positive=['soup', 'acronyms'])[0]"
   ],
   "metadata": {
    "collapsed": false,
    "pycharm": {
     "name": "#%%\n"
    }
   }
  },
  {
   "cell_type": "code",
   "execution_count": null,
   "outputs": [],
   "source": [],
   "metadata": {
    "collapsed": false,
    "pycharm": {
     "name": "#%%\n"
    }
   }
  }
 ],
 "metadata": {
  "kernelspec": {
   "display_name": "Python 3",
   "language": "python",
   "name": "python3"
  },
  "language_info": {
   "codemirror_mode": {
    "name": "ipython",
    "version": 2
   },
   "file_extension": ".py",
   "mimetype": "text/x-python",
   "name": "python",
   "nbconvert_exporter": "python",
   "pygments_lexer": "ipython2",
   "version": "2.7.6"
  }
 },
 "nbformat": 4,
 "nbformat_minor": 0
}