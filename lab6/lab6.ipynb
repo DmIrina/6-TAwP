{
 "cells": [
  {
   "cell_type": "code",
   "metadata": {
    "collapsed": true,
    "pycharm": {
     "name": "#%%\n"
    }
   },
   "source": [
    "import numpy as np\n",
    "import pandas as pd\n",
    "import nltk"
   ],
   "execution_count": 31,
   "outputs": []
  },
  {
   "cell_type": "markdown",
   "source": [
    "#### Task1"
   ],
   "metadata": {
    "collapsed": false,
    "pycharm": {
     "name": "#%% md\n"
    }
   }
  },
  {
   "cell_type": "markdown",
   "source": [
    "Створити програму, яка зчитує заданий набір даних, виконує попередню обробку, розбиває дані на навчальні та тестові,\n",
    "виконує аналіз настроїв за допомогою наївного баєсівського класифікатора."
   ],
   "metadata": {
    "collapsed": false,
    "pycharm": {
     "name": "#%% md\n"
    }
   }
  },
  {
   "cell_type": "code",
   "execution_count": 32,
   "outputs": [],
   "source": [
    "data_df = pd.read_csv('movie2.csv')"
   ],
   "metadata": {
    "collapsed": false,
    "pycharm": {
     "name": "#%%\n"
    }
   }
  },
  {
   "cell_type": "code",
   "execution_count": 33,
   "outputs": [
    {
     "name": "stdout",
     "output_type": "stream",
     "text": [
      "Порожні документи: 0\n"
     ]
    }
   ],
   "source": [
    "total_nulls = data_df[data_df.text.str.strip() == ''].shape[0]\n",
    "print(\"Порожні документи:\", total_nulls)"
   ],
   "metadata": {
    "collapsed": false,
    "pycharm": {
     "name": "#%%\n"
    }
   }
  },
  {
   "cell_type": "code",
   "execution_count": 34,
   "outputs": [
    {
     "data": {
      "text/plain": "       Unnamed: 0                                               text  label  \\\n0           27746  This movie is basically a spoof on Hitchcock's...      1   \n1           27180  With the exception of the main character, the ...      1   \n2           23274  Both Robert Duvall and Glenn Close played thei...      1   \n3           31940  First of all I need to say that I'm Portuguese...      1   \n4           27106  This is an excellent film about a traditional ...      1   \n...           ...                                                ...    ...   \n19995       36255  This movie was not very good in my opinion. Wh...      0   \n19996       39202  Before I saw this masterpiece I never would ha...      0   \n19997       24395  This is a German film from 1974 that is someth...      0   \n19998       29889  No, *Hitch* is decidedly NOT a romantic-comedy...      0   \n19999       11864  I love this movie, first and foremost because ...      1   \n\n                                                 comment  \n0      movie basically spoof hitchcocks strangers tra...  \n1      exception main character acting didnt convince...  \n2      robert duvall glenn close played roles believa...  \n3      first need say im portuguese usual spend time ...  \n4      excellent film traditional working class famil...  \n...                                                  ...  \n19995  movie good opinion complete waste hour half lu...  \n19996  saw masterpiece never would guessed devastatin...  \n19997  german film something women come castle beyond...  \n19998  hitch decidedly romanticcomedy bilious bibulou...  \n19999  love movie first foremost mark wahlberg second...  \n\n[20000 rows x 4 columns]",
      "text/html": "<div>\n<style scoped>\n    .dataframe tbody tr th:only-of-type {\n        vertical-align: middle;\n    }\n\n    .dataframe tbody tr th {\n        vertical-align: top;\n    }\n\n    .dataframe thead th {\n        text-align: right;\n    }\n</style>\n<table border=\"1\" class=\"dataframe\">\n  <thead>\n    <tr style=\"text-align: right;\">\n      <th></th>\n      <th>Unnamed: 0</th>\n      <th>text</th>\n      <th>label</th>\n      <th>comment</th>\n    </tr>\n  </thead>\n  <tbody>\n    <tr>\n      <th>0</th>\n      <td>27746</td>\n      <td>This movie is basically a spoof on Hitchcock's...</td>\n      <td>1</td>\n      <td>movie basically spoof hitchcocks strangers tra...</td>\n    </tr>\n    <tr>\n      <th>1</th>\n      <td>27180</td>\n      <td>With the exception of the main character, the ...</td>\n      <td>1</td>\n      <td>exception main character acting didnt convince...</td>\n    </tr>\n    <tr>\n      <th>2</th>\n      <td>23274</td>\n      <td>Both Robert Duvall and Glenn Close played thei...</td>\n      <td>1</td>\n      <td>robert duvall glenn close played roles believa...</td>\n    </tr>\n    <tr>\n      <th>3</th>\n      <td>31940</td>\n      <td>First of all I need to say that I'm Portuguese...</td>\n      <td>1</td>\n      <td>first need say im portuguese usual spend time ...</td>\n    </tr>\n    <tr>\n      <th>4</th>\n      <td>27106</td>\n      <td>This is an excellent film about a traditional ...</td>\n      <td>1</td>\n      <td>excellent film traditional working class famil...</td>\n    </tr>\n    <tr>\n      <th>...</th>\n      <td>...</td>\n      <td>...</td>\n      <td>...</td>\n      <td>...</td>\n    </tr>\n    <tr>\n      <th>19995</th>\n      <td>36255</td>\n      <td>This movie was not very good in my opinion. Wh...</td>\n      <td>0</td>\n      <td>movie good opinion complete waste hour half lu...</td>\n    </tr>\n    <tr>\n      <th>19996</th>\n      <td>39202</td>\n      <td>Before I saw this masterpiece I never would ha...</td>\n      <td>0</td>\n      <td>saw masterpiece never would guessed devastatin...</td>\n    </tr>\n    <tr>\n      <th>19997</th>\n      <td>24395</td>\n      <td>This is a German film from 1974 that is someth...</td>\n      <td>0</td>\n      <td>german film something women come castle beyond...</td>\n    </tr>\n    <tr>\n      <th>19998</th>\n      <td>29889</td>\n      <td>No, *Hitch* is decidedly NOT a romantic-comedy...</td>\n      <td>0</td>\n      <td>hitch decidedly romanticcomedy bilious bibulou...</td>\n    </tr>\n    <tr>\n      <th>19999</th>\n      <td>11864</td>\n      <td>I love this movie, first and foremost because ...</td>\n      <td>1</td>\n      <td>love movie first foremost mark wahlberg second...</td>\n    </tr>\n  </tbody>\n</table>\n<p>20000 rows × 4 columns</p>\n</div>"
     },
     "execution_count": 34,
     "metadata": {},
     "output_type": "execute_result"
    }
   ],
   "source": [
    "import re\n",
    "\n",
    "wpt = nltk.WordPunctTokenizer()\n",
    "stop_words = nltk.corpus.stopwords.words('english')\n",
    "\n",
    "\n",
    "def preproc_doc(doc):\n",
    "    doc = re.sub(r'[^a-zA-Z\\s]', '', doc, re.I | re.A)\n",
    "    doc = re.sub(r'http\\S+', '', doc)\n",
    "    doc = doc.lower()\n",
    "    doc = doc.strip()\n",
    "    tokens = wpt.tokenize(doc)\n",
    "    filtered_tokens = [token for token in tokens if token not in stop_words]\n",
    "    doc = ' '.join(filtered_tokens)\n",
    "    return doc\n",
    "\n",
    "\n",
    "preproc_corpus = np.vectorize(preproc_doc)\n",
    "p_corpus = preproc_corpus(data_df['text'])\n",
    "data_df['comment'] = p_corpus\n",
    "data_df"
   ],
   "metadata": {
    "collapsed": false,
    "pycharm": {
     "name": "#%%\n"
    }
   }
  },
  {
   "cell_type": "code",
   "execution_count": 35,
   "outputs": [],
   "source": [
    "from sklearn.model_selection import train_test_split\n",
    "\n",
    "X_train, X_test, y_train, y_test = train_test_split(data_df['comment'], data_df['label'], test_size=0.2, random_state=42)"
   ],
   "metadata": {
    "collapsed": false,
    "pycharm": {
     "name": "#%%\n"
    }
   }
  },
  {
   "cell_type": "code",
   "execution_count": 36,
   "outputs": [],
   "source": [
    "from sklearn.naive_bayes import MultinomialNB\n",
    "from sklearn.feature_extraction.text import TfidfVectorizer, CountVectorizer\n",
    "\n",
    "vectorizer = TfidfVectorizer()\n",
    "X_train_vect = vectorizer.fit_transform(X_train)\n",
    "X_test_vect = vectorizer.transform(X_test)"
   ],
   "metadata": {
    "collapsed": false,
    "pycharm": {
     "name": "#%%\n"
    }
   }
  },
  {
   "cell_type": "code",
   "execution_count": 37,
   "outputs": [],
   "source": [
    "classifier = MultinomialNB()\n",
    "classifier.fit(X_train_vect, y_train)\n",
    "\n",
    "y_pred_MNB = classifier.predict(X_test_vect)"
   ],
   "metadata": {
    "collapsed": false,
    "pycharm": {
     "name": "#%%\n"
    }
   }
  },
  {
   "cell_type": "markdown",
   "source": [
    "#### Task 2"
   ],
   "metadata": {
    "collapsed": false,
    "pycharm": {
     "name": "#%% md\n"
    }
   }
  },
  {
   "cell_type": "markdown",
   "source": [
    "Розрахувати матрицю невідповідностей, провести оцінку точності моделі."
   ],
   "metadata": {
    "collapsed": false,
    "pycharm": {
     "name": "#%% md\n"
    }
   }
  },
  {
   "cell_type": "code",
   "execution_count": 38,
   "outputs": [
    {
     "data": {
      "text/plain": "<Figure size 600x400 with 2 Axes>",
      "image/png": "[encoded data removed]"
     },
     "metadata": {},
     "output_type": "display_data"
    }
   ],
   "source": [
    "import matplotlib.pyplot as plt\n",
    "import seaborn as sns\n",
    "from sklearn.metrics import confusion_matrix\n",
    "from sklearn.metrics import accuracy_score\n",
    "\n",
    "cm_MNB = confusion_matrix(y_test, y_pred_MNB)\n",
    "plt.figure(figsize=(6, 4))\n",
    "sns.heatmap(cm_MNB, annot=True, fmt='d', cmap='Blues', xticklabels=['негативний', 'позитивний'],\n",
    "            yticklabels=['негативний', 'позитивний'])\n",
    "plt.xlabel('Predicted')\n",
    "plt.ylabel('True')\n",
    "plt.title(\"Матриця невідповідностей: наївний баєсівський класифікатор\")\n",
    "plt.show()"
   ],
   "metadata": {
    "collapsed": false,
    "pycharm": {
     "name": "#%%\n"
    }
   }
  },
  {
   "cell_type": "code",
   "execution_count": 39,
   "outputs": [
    {
     "name": "stdout",
     "output_type": "stream",
     "text": [
      "Точність моделі з TextBlob: 86.35%\n"
     ]
    }
   ],
   "source": [
    "accuracy_MNB = accuracy_score(y_test, y_pred_MNB)\n",
    "print(\"Точність моделі з TextBlob: {:.2f}%\".format(accuracy_MNB * 100))"
   ],
   "metadata": {
    "collapsed": false,
    "pycharm": {
     "name": "#%%\n"
    }
   }
  },
  {
   "cell_type": "markdown",
   "source": [
    "#### Task 3"
   ],
   "metadata": {
    "collapsed": false,
    "pycharm": {
     "name": "#%% md\n"
    }
   }
  },
  {
   "cell_type": "markdown",
   "source": [
    "Використати один з готових лексиконів, Textblob, для аналізу оцінки настроїв.\n",
    "Також розрахувати матрицю невідповідностей, провести оцінку точності моделі."
   ],
   "metadata": {
    "collapsed": false,
    "pycharm": {
     "name": "#%% md\n"
    }
   }
  },
  {
   "cell_type": "code",
   "execution_count": 40,
   "outputs": [],
   "source": [
    "from textblob import TextBlob\n",
    "\n",
    "data_df['sentiment'] = data_df['comment'].apply(lambda x: TextBlob(x).sentiment.polarity)\n",
    "\n",
    "X_train, X_test, y_train, y_test = train_test_split(data_df['sentiment'],\n",
    "                                                    data_df['label'],\n",
    "                                                    test_size=0.2,\n",
    "                                                    random_state=42)"
   ],
   "metadata": {
    "collapsed": false,
    "pycharm": {
     "name": "#%%\n"
    }
   }
  },
  {
   "cell_type": "code",
   "execution_count": 41,
   "outputs": [
    {
     "data": {
      "text/plain": "<Figure size 600x400 with 2 Axes>",
      "image/png": "[encoded data removed]"
     },
     "metadata": {},
     "output_type": "display_data"
    }
   ],
   "source": [
    "threshold = 0.0\n",
    "y_pred_TB = [1 if sentiment >= threshold else 0 for sentiment in X_test]\n",
    "\n",
    "cm_TB = confusion_matrix(y_test, y_pred_TB)\n",
    "\n",
    "plt.figure(figsize=(6, 4))\n",
    "sns.heatmap(cm_TB, annot=True, fmt='d', cmap='Blues', xticklabels=['негативний', 'позитивний'],\n",
    "            yticklabels=['негативний', 'позитивний'])\n",
    "plt.xlabel('Predicted')\n",
    "plt.ylabel('True')\n",
    "plt.title('Confusion Matrix')\n",
    "plt.show()"
   ],
   "metadata": {
    "collapsed": false,
    "pycharm": {
     "name": "#%%\n"
    }
   }
  },
  {
   "cell_type": "code",
   "execution_count": 42,
   "outputs": [
    {
     "name": "stdout",
     "output_type": "stream",
     "text": [
      "Точність моделі з TextBlob: 69.35%\n"
     ]
    }
   ],
   "source": [
    "accuracy_TB = accuracy_score(y_test, y_pred_TB)\n",
    "print(\"Точність моделі з TextBlob: {:.2f}%\".format(accuracy_TB * 100))"
   ],
   "metadata": {
    "collapsed": false,
    "pycharm": {
     "name": "#%%\n"
    }
   }
  },
  {
   "cell_type": "markdown",
   "source": [
    "#### Task 4"
   ],
   "metadata": {
    "collapsed": false,
    "pycharm": {
     "name": "#%% md\n"
    }
   }
  },
  {
   "cell_type": "markdown",
   "source": [
    " Обрати три випадкові записи та вивести результати оцінки їх настрою за пунктами 1 і 3."
   ],
   "metadata": {
    "collapsed": false,
    "pycharm": {
     "name": "#%% md\n"
    }
   }
  },
  {
   "cell_type": "code",
   "execution_count": 43,
   "outputs": [],
   "source": [
    "random_samples = data_df.sample(3)"
   ],
   "metadata": {
    "collapsed": false,
    "pycharm": {
     "name": "#%%\n"
    }
   }
  },
  {
   "cell_type": "code",
   "execution_count": 44,
   "outputs": [
    {
     "name": "stdout",
     "output_type": "stream",
     "text": [
      "Результати оцінки настрою за пунктами наївного баєсівського класифікатора:\n",
      "comment:\n",
      " way lamberto bava substandard facsimilie father mario extremely overrated director anyway michele soavi substandard director dario argento mold church least one thing recommend itthe incredibly detailed art directionbut absolutely nothing else film longwinded filled onedimensional characters almost put sleep several times theres fine line art pretentious crap church isnt completely worthless youd better watching something elsebr br\n",
      "label: 0\n",
      "прогноз: 0\n",
      "--------------------\n",
      "comment:\n",
      " think one people found another one roths pearls performance awarded stunning story told eloquently francis ford coppola years earlier really unfolds gradually leaves room characters develop roeg proves doesnt warsetting interressting wonderful location lies story contrast ruthlessnes beauty go hand hand loneliness become best friend shows sinister past small golden age kingdom lands coast full wealth st world country u send right men beautiful directed film nicolas roeg wih sublime cast\n",
      "label: 1\n",
      "прогноз: 1\n",
      "--------------------\n",
      "comment:\n",
      " wonderful free flowing often lyrical film whisks along ever smiling even truly shocking incidents along way one gasps way women treated yet ultimately seem come well much credit concerned many potentially disastrous scenes work well possibly depardieus best performance certainly natural jeanne moreau performs outstandingly must difficult role play including vigorous sex scenes couple guys least half age mioumiou lovely throughout difficult scenes play initially seems dirty misogynist rantromp tale characters unfold much tender honest picture emerges end uncompromising daring film demands respect\n",
      "label: 1\n",
      "прогноз: 1\n",
      "--------------------\n"
     ]
    }
   ],
   "source": [
    "print(\"Результати оцінки настрою за пунктами наївного баєсівського класифікатора:\")\n",
    "for index, row in random_samples.iterrows():\n",
    "    comment = row['comment']\n",
    "    label = row['label']\n",
    "    X_sample_vec = vectorizer.transform([comment])\n",
    "    prediction = classifier.predict(X_sample_vec)[0]\n",
    "    print(\"comment:\\n\", comment)\n",
    "    print(\"label:\", label)\n",
    "    print(\"прогноз:\", prediction)\n",
    "    print(\"--------------------\")"
   ],
   "metadata": {
    "collapsed": false,
    "pycharm": {
     "name": "#%%\n"
    }
   }
  },
  {
   "cell_type": "code",
   "execution_count": 45,
   "outputs": [
    {
     "name": "stdout",
     "output_type": "stream",
     "text": [
      "Результати оцінки настрою за пунктами TextBlob:\n",
      "comment:\n",
      " way lamberto bava substandard facsimilie father mario extremely overrated director anyway michele soavi substandard director dario argento mold church least one thing recommend itthe incredibly detailed art directionbut absolutely nothing else film longwinded filled onedimensional characters almost put sleep several times theres fine line art pretentious crap church isnt completely worthless youd better watching something elsebr br\n",
      "label: 0\n",
      "оцінка настрою: -0.03712121212121213\n",
      "прогноз: 0\n",
      "--------------------\n",
      "comment:\n",
      " think one people found another one roths pearls performance awarded stunning story told eloquently francis ford coppola years earlier really unfolds gradually leaves room characters develop roeg proves doesnt warsetting interressting wonderful location lies story contrast ruthlessnes beauty go hand hand loneliness become best friend shows sinister past small golden age kingdom lands coast full wealth st world country u send right men beautiful directed film nicolas roeg wih sublime cast\n",
      "label: 1\n",
      "оцінка настрою: 0.2912087912087912\n",
      "прогноз: 1\n",
      "--------------------\n",
      "comment:\n",
      " wonderful free flowing often lyrical film whisks along ever smiling even truly shocking incidents along way one gasps way women treated yet ultimately seem come well much credit concerned many potentially disastrous scenes work well possibly depardieus best performance certainly natural jeanne moreau performs outstandingly must difficult role play including vigorous sex scenes couple guys least half age mioumiou lovely throughout difficult scenes play initially seems dirty misogynist rantromp tale characters unfold much tender honest picture emerges end uncompromising daring film demands respect\n",
      "label: 1\n",
      "оцінка настрою: 0.06166666666666667\n",
      "прогноз: 1\n",
      "--------------------\n"
     ]
    }
   ],
   "source": [
    "print(\"Результати оцінки настрою за пунктами TextBlob:\")\n",
    "for index, row in random_samples.iterrows():\n",
    "    comment = row['comment']\n",
    "    label = row['label']\n",
    "    sentiment = TextBlob(comment).sentiment.polarity\n",
    "    if sentiment >= 0:\n",
    "        prediction = 1\n",
    "    else:\n",
    "        prediction = 0\n",
    "    print(\"comment:\\n\", comment)\n",
    "    print(\"label:\", label)\n",
    "    print(\"оцінка настрою:\", sentiment)\n",
    "    print(\"прогноз:\", prediction)\n",
    "    print(\"--------------------\")"
   ],
   "metadata": {
    "collapsed": false,
    "pycharm": {
     "name": "#%%\n"
    }
   }
  },
  {
   "cell_type": "code",
   "execution_count": 45,
   "outputs": [],
   "source": [],
   "metadata": {
    "collapsed": false,
    "pycharm": {
     "name": "#%%\n"
    }
   }
  }
 ],
 "metadata": {
  "kernelspec": {
   "display_name": "Python 3",
   "language": "python",
   "name": "python3"
  },
  "language_info": {
   "codemirror_mode": {
    "name": "ipython",
    "version": 2
   },
   "file_extension": ".py",
   "mimetype": "text/x-python",
   "name": "python",
   "nbconvert_exporter": "python",
   "pygments_lexer": "ipython2",
   "version": "2.7.6"
  }
 },
 "nbformat": 4,
 "nbformat_minor": 0
}